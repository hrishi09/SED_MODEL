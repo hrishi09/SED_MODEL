{
 "cells": [
  {
   "cell_type": "markdown",
   "metadata": {},
   "source": [
    "# Speech Emotion Detection Using Ravdess & Tess Dataset in CNN\n",
    "\n",
    "__DATASET:\n",
    "\n",
    "For this Project, we have Gathered a total no of 5252 Samples.\n",
    "\n",
    "From __RAVDESS__ we have included 1440 files containing Speech and 1012 files Containing Songs based on different human Emotions totalling to __2452__. The RAVDESS contains 24 professional actors (12 female, 12 male), vocalizing two lexically-matched statements in a neutral North American accent. Speech emotions includes calm, happy, sad, angry, fearful, surprise, and disgust expressions. and song contains calm, happy, sad, angry, and fearful emotions. Each file was rated 10 times on emotional validity, intensity, and genuineness. Ratings were provided by 247 individuals who were characteristic of untrained adult research participants from North America. A further set of 72 participants provided test-retest data. High levels of emotional validity, interrater reliability, and test-retest intrarater reliability were reported.\n",
    "\n",
    "From __TESS__ we have __2800__ files where a set of 200 target words were spoken in the carrier phrase \"Say the word _' by two actresses (aged 26 and 64 years) and recordings were made of the set portraying each of seven emotions (anger, disgust, fear, happiness, pleasant surprise, sadness, and neutral). There are 2800 stimuli in total. Two actresses were recruited from the Toronto area. Both actresses speak English as their first language, are university educated, and have musical training. Audiometric testing indicated that both actresses have thresholds within the normal range."
   ]
  },
  {
   "cell_type": "markdown",
   "metadata": {},
   "source": [
    "#### Importing Librosa (A Python Package) for Audio and Music analysis so we can extract audio features such as pitch, tone, amplitude etc."
   ]
  },
  {
   "cell_type": "code",
   "execution_count": 1,
   "metadata": {},
   "outputs": [],
   "source": [
    "import librosa\n",
    "from librosa import display\n",
    "\n",
    "#importing a Sample audio file from the DataSet\n",
    "data, sampling_rate = librosa.load('dataset/03-01-03-01-01-01-17.wav')"
   ]
  },
  {
   "cell_type": "markdown",
   "metadata": {},
   "source": [
    "#### Plotting the Imported Audio file loaded by Librosa right now using Matplotlib and waveplot function of Librosa. The Function will plot the Amplitude envelope of the waveform."
   ]
  },
  {
   "cell_type": "code",
   "execution_count": 2,
   "metadata": {},
   "outputs": [
    {
     "data": {
      "text/plain": [
       "<matplotlib.collections.PolyCollection at 0x2508d504608>"
      ]
     },
     "execution_count": 2,
     "metadata": {},
     "output_type": "execute_result"
    },
    {
     "data": {
      "image/png": "[encoded data removed]",
      "text/plain": [
       "<Figure size 1080x288 with 1 Axes>"
      ]
     },
     "metadata": {
      "needs_background": "light"
     },
     "output_type": "display_data"
    }
   ],
   "source": [
    "#Importing Matplotlib and setting matplotlib inline so the output will be visiv\n",
    "import matplotlib.pyplot as plt\n",
    "%matplotlib inline\n",
    "\n",
    "plt.figure(figsize=(15, 4))\n",
    "librosa.display.waveplot(data, sr=sampling_rate)"
   ]
  },
  {
   "cell_type": "markdown",
   "metadata": {},
   "source": [
    "##### In the above plot you can observe that there exist a Sudden spike in the amplitude at time around 1.4 second. Similarly from 1.8 to 2.3 second there is a shaking/Disorientation in the amplitude that can be obeserved.AS the above file is of a happy sound showing such behaviour that can be observed in any Laughing/happy sound, setting the basic criteria for distinguishing various emothions."
   ]
  },
  {
   "cell_type": "markdown",
   "metadata": {},
   "source": [
    "## *Loading the DataSet\n",
    "We will create our numpy array for extracting Mel-frequency cepstral coefficients (MFCCs), while the classes to predict will be extracted from the name of the file.\n",
    "The following list shows the notation for each emotion in our dataset\n",
    "#### 0 = neutral,\n",
    "#### 1 = calm,\n",
    "#### 2 = happy,\n",
    "#### 3 = sad,\n",
    "#### 4 = angry,\n",
    "#### 5 = fearful,\n",
    "#### 6 = disgust,\n",
    "#### 7 = surprised\n"
   ]
  },
  {
   "cell_type": "code",
   "execution_count": 4,
   "metadata": {},
   "outputs": [
    {
     "name": "stdout",
     "output_type": "stream",
     "text": [
      "Data loaded. Loading time: 303.0925397872925 seconds\n"
     ]
    }
   ],
   "source": [
    "#Importing Numpy and Other Libraries\n",
    "\n",
    "import numpy as np\n",
    "import time\n",
    "import os\n",
    "path = 'dataset/'\n",
    "lst = []\n",
    "\n",
    "start_time = time.time()\n",
    "\n",
    "for subdir, dirs, files in os.walk(path):\n",
    "    for file in files:\n",
    "        try:\n",
    "            #Load librosa array, obtain mfcss, store the file and the mfcss information in a new array\n",
    "            \n",
    "            X, sample_rate = librosa.load(os.path.join(subdir,file), res_type='kaiser_fast')\n",
    "            mfccs = np.mean(librosa.feature.mfcc(y=X, sr=sample_rate, n_mfcc=40).T,axis=0) \n",
    "            \n",
    "            # The instruction below converts the labels (from 1 to 8) to a series from 0 to 7\n",
    "            # This is because our predictor needs to start from 0 otherwise it will try to predict also 0.\n",
    "            \n",
    "            file = int(file[7:8]) - 1 \n",
    "            arr = mfccs, file\n",
    "            lst.append(arr)\n",
    "            \n",
    "            # If the file is not valid, skip it\n",
    "            \n",
    "        except ValueError:\n",
    "            continue\n",
    "\n",
    "print(\"Data loaded. Loading time: %s seconds\" % (time.time() - start_time))"
   ]
  },
  {
   "cell_type": "markdown",
   "metadata": {},
   "source": [
    "#### The Dataset is loaded. The timestamp above is to insure the dataset is loaded successfully & may vary everytime. Now lets Zip the X and y values so that it will make a list of first elements and 2nd Elements for future validation of our model"
   ]
  },
  {
   "cell_type": "code",
   "execution_count": 5,
   "metadata": {},
   "outputs": [],
   "source": [
    "X, y = zip(*lst)"
   ]
  },
  {
   "cell_type": "markdown",
   "metadata": {},
   "source": [
    "#### Now creating arrays of X and y for our impletention purpose"
   ]
  },
  {
   "cell_type": "code",
   "execution_count": 6,
   "metadata": {},
   "outputs": [
    {
     "data": {
      "text/plain": [
       "((5252, 40), (5252,))"
      ]
     },
     "execution_count": 6,
     "metadata": {},
     "output_type": "execute_result"
    }
   ],
   "source": [
    "import numpy as np\n",
    "X = np.asarray(X)\n",
    "y = np.asarray(y)\n",
    "\n",
    "#Lets check the shape of X and y\n",
    "X.shape, y.shape"
   ]
  },
  {
   "cell_type": "markdown",
   "metadata": {},
   "source": [
    "#### As expected 5252 files with their features are loaded from the dataset\n",
    "#### Now using Joblib to save files so that we won't have to perform the above Operations over and over"
   ]
  },
  {
   "cell_type": "code",
   "execution_count": 11,
   "metadata": {},
   "outputs": [],
   "source": [
    "import joblib\n",
    "\n",
    "X_name = 'X.joblib'\n",
    "y_name = 'y.joblib'\n",
    "save_dir = 'C:\\\\Users\\\\Hrishikesh\\\\Desktop\\\\Project\\\\#Project\\\\Joblib'\n",
    "\n",
    "savedX = joblib.dump(X, os.path.join(save_dir, X_name))\n",
    "savedy = joblib.dump(y, os.path.join(save_dir, y_name))"
   ]
  },
  {
   "cell_type": "code",
   "execution_count": 12,
   "metadata": {},
   "outputs": [],
   "source": [
    "# Loading saved files\n",
    "import joblib\n",
    "X = joblib.load('Joblib/X.joblib')\n",
    "y = joblib.load('Joblib/y.joblib')"
   ]
  },
  {
   "cell_type": "markdown",
   "metadata": {},
   "source": [
    "## *Decision Tree Classifier\n",
    "__To Accomplish Successfull classification we are using Decision tree classifier__"
   ]
  },
  {
   "cell_type": "code",
   "execution_count": 13,
   "metadata": {},
   "outputs": [],
   "source": [
    "from sklearn.model_selection import train_test_split\n",
    "#creating train and test set from the dataset\n",
    "X_train, X_test, y_train, y_test = train_test_split(X,y, test_size=0.25, random_state=50)"
   ]
  },
  {
   "cell_type": "code",
   "execution_count": 15,
   "metadata": {},
   "outputs": [
    {
     "data": {
      "text/plain": [
       "DecisionTreeClassifier(ccp_alpha=0.0, class_weight=None, criterion='gini',\n",
       "                       max_depth=None, max_features=None, max_leaf_nodes=None,\n",
       "                       min_impurity_decrease=0.0, min_impurity_split=None,\n",
       "                       min_samples_leaf=1, min_samples_split=2,\n",
       "                       min_weight_fraction_leaf=0.0, presort='deprecated',\n",
       "                       random_state=None, splitter='best')"
      ]
     },
     "execution_count": 15,
     "metadata": {},
     "output_type": "execute_result"
    }
   ],
   "source": [
    "#Using Decision tree Classifier to train the model\n",
    "from sklearn.tree import DecisionTreeClassifier\n",
    "dtree = DecisionTreeClassifier()\n",
    "dtree.fit(X_train, y_train)"
   ]
  },
  {
   "cell_type": "markdown",
   "metadata": {},
   "source": [
    "__we have trained the model using Decision-tree-Classifier. Now let's try to predict the output using test set & observe the accuracy__"
   ]
  },
  {
   "cell_type": "code",
   "execution_count": 16,
   "metadata": {},
   "outputs": [
    {
     "name": "stdout",
     "output_type": "stream",
     "text": [
      "              precision    recall  f1-score   support\n",
      "\n",
      "           0       0.83      0.80      0.82       157\n",
      "           1       0.60      0.62      0.61        85\n",
      "           2       0.69      0.67      0.68       206\n",
      "           3       0.74      0.76      0.75       190\n",
      "           4       0.72      0.69      0.70       201\n",
      "           5       0.69      0.66      0.67       185\n",
      "           6       0.70      0.74      0.72       134\n",
      "           7       0.67      0.71      0.69       155\n",
      "\n",
      "    accuracy                           0.71      1313\n",
      "   macro avg       0.70      0.71      0.70      1313\n",
      "weighted avg       0.71      0.71      0.71      1313\n",
      "\n"
     ]
    }
   ],
   "source": [
    "predictions = dtree.predict(X_test)\n",
    "from sklearn.metrics import classification_report,confusion_matrix\n",
    "print(classification_report(y_test,predictions))"
   ]
  },
  {
   "cell_type": "markdown",
   "metadata": {},
   "source": [
    "#### The Classification Report shows that the Precision/Accuracy is around 71%. The precision is high enough to classify as a successful model but we require more precision than this to implement it in any future Projects."
   ]
  },
  {
   "cell_type": "markdown",
   "metadata": {},
   "source": [
    "# *Neural Network\n",
    "__Creating a Convolutional Neural Network Using Keras & Tensorflow to create a more efficient model__"
   ]
  },
  {
   "cell_type": "code",
   "execution_count": 17,
   "metadata": {},
   "outputs": [
    {
     "data": {
      "text/plain": [
       "((3939, 40, 1), (1313, 40, 1))"
      ]
     },
     "execution_count": 17,
     "metadata": {},
     "output_type": "execute_result"
    }
   ],
   "source": [
    "#Now creating train and test set for our Neural Network\n",
    "import numpy as np\n",
    "x_traincnn = np.expand_dims(X_train, axis=2)\n",
    "x_testcnn = np.expand_dims(X_test, axis=2)\n",
    "\n",
    "#Lets check the Dimensions of the train and test set\n",
    "x_traincnn.shape, x_testcnn.shape"
   ]
  },
  {
   "cell_type": "markdown",
   "metadata": {},
   "source": [
    "#### As we know the Neural Network consist of Layers of Neurons (Input layers) interlinked to each other and produce final output/prediction in last layer. \n",
    "#### The Above operation is implemented in order to create a layered Neural network as the input will be in a 3 dimension."
   ]
  },
  {
   "cell_type": "code",
   "execution_count": 23,
   "metadata": {},
   "outputs": [],
   "source": [
    "#Installing Keras and Tensorflow"
   ]
  },
  {
   "cell_type": "code",
   "execution_count": 22,
   "metadata": {},
   "outputs": [
    {
     "name": "stdout",
     "output_type": "stream",
     "text": [
      "Requirement already satisfied: tensorflow in c:\\users\\hrishikesh\\anaconda3\\lib\\site-packages (1.14.0)\n",
      "Requirement already satisfied: astor>=0.6.0 in c:\\users\\hrishikesh\\anaconda3\\lib\\site-packages (from tensorflow) (0.8.0)\n",
      "Requirement already satisfied: wheel>=0.26 in c:\\users\\hrishikesh\\anaconda3\\lib\\site-packages (from tensorflow) (0.34.2)\n",
      "Requirement already satisfied: absl-py>=0.7.0 in c:\\users\\hrishikesh\\anaconda3\\lib\\site-packages (from tensorflow) (0.9.0)\n",
      "Requirement already satisfied: google-pasta>=0.1.6 in c:\\users\\hrishikesh\\anaconda3\\lib\\site-packages (from tensorflow) (0.2.0)\n",
      "Requirement already satisfied: six>=1.10.0 in c:\\users\\hrishikesh\\anaconda3\\lib\\site-packages (from tensorflow) (1.14.0)\n",
      "Requirement already satisfied: tensorboard<1.15.0,>=1.14.0 in c:\\users\\hrishikesh\\anaconda3\\lib\\site-packages (from tensorflow) (1.14.0)\n",
      "Requirement already satisfied: wrapt>=1.11.1 in c:\\users\\hrishikesh\\anaconda3\\lib\\site-packages (from tensorflow) (1.11.2)\n",
      "Requirement already satisfied: keras-applications>=1.0.6 in c:\\users\\hrishikesh\\anaconda3\\lib\\site-packages (from tensorflow) (1.0.8)\n",
      "Requirement already satisfied: keras-preprocessing>=1.0.5 in c:\\users\\hrishikesh\\anaconda3\\lib\\site-packages (from tensorflow) (1.1.0)\n",
      "Requirement already satisfied: grpcio>=1.8.6 in c:\\users\\hrishikesh\\anaconda3\\lib\\site-packages (from tensorflow) (1.27.2)\n",
      "Requirement already satisfied: numpy<2.0,>=1.14.5 in c:\\users\\hrishikesh\\anaconda3\\lib\\site-packages (from tensorflow) (1.18.1)\n",
      "Requirement already satisfied: termcolor>=1.1.0 in c:\\users\\hrishikesh\\anaconda3\\lib\\site-packages (from tensorflow) (1.1.0)\n",
      "Requirement already satisfied: tensorflow-estimator<1.15.0rc0,>=1.14.0rc0 in c:\\users\\hrishikesh\\anaconda3\\lib\\site-packages (from tensorflow) (1.14.0)\n",
      "Requirement already satisfied: protobuf>=3.6.1 in c:\\users\\hrishikesh\\anaconda3\\lib\\site-packages (from tensorflow) (3.12.3)\n",
      "Requirement already satisfied: gast>=0.2.0 in c:\\users\\hrishikesh\\anaconda3\\lib\\site-packages (from tensorflow) (0.3.3)\n",
      "Requirement already satisfied: werkzeug>=0.11.15 in c:\\users\\hrishikesh\\anaconda3\\lib\\site-packages (from tensorboard<1.15.0,>=1.14.0->tensorflow) (1.0.0)\n",
      "Requirement already satisfied: setuptools>=41.0.0 in c:\\users\\hrishikesh\\anaconda3\\lib\\site-packages (from tensorboard<1.15.0,>=1.14.0->tensorflow) (45.2.0.post20200210)\n",
      "Requirement already satisfied: markdown>=2.6.8 in c:\\users\\hrishikesh\\anaconda3\\lib\\site-packages (from tensorboard<1.15.0,>=1.14.0->tensorflow) (3.1.1)\n",
      "Requirement already satisfied: h5py in c:\\users\\hrishikesh\\anaconda3\\lib\\site-packages (from keras-applications>=1.0.6->tensorflow) (2.10.0)\n",
      "Note: you may need to restart the kernel to use updated packages.\n"
     ]
    }
   ],
   "source": [
    "pip install tensorflow"
   ]
  },
  {
   "cell_type": "code",
   "execution_count": 24,
   "metadata": {},
   "outputs": [
    {
     "name": "stdout",
     "output_type": "stream",
     "text": [
      "Requirement already satisfied: Keras in c:\\users\\hrishikesh\\anaconda3\\lib\\site-packages (2.4.3)\n",
      "Requirement already satisfied: h5py in c:\\users\\hrishikesh\\anaconda3\\lib\\site-packages (from Keras) (2.10.0)\n",
      "Requirement already satisfied: numpy>=1.9.1 in c:\\users\\hrishikesh\\anaconda3\\lib\\site-packages (from Keras) (1.18.1)\n",
      "Requirement already satisfied: scipy>=0.14 in c:\\users\\hrishikesh\\anaconda3\\lib\\site-packages (from Keras) (1.4.1)\n",
      "Requirement already satisfied: pyyaml in c:\\users\\hrishikesh\\anaconda3\\lib\\site-packages (from Keras) (5.3)\n",
      "Requirement already satisfied: six in c:\\users\\hrishikesh\\anaconda3\\lib\\site-packages (from h5py->Keras) (1.14.0)\n",
      "Note: you may need to restart the kernel to use updated packages.\n"
     ]
    }
   ],
   "source": [
    "pip install Keras"
   ]
  },
  {
   "cell_type": "code",
   "execution_count": 29,
   "metadata": {},
   "outputs": [],
   "source": [
    "#Importing Keras and Tensorflow\n",
    "import numpy as np\n",
    "import matplotlib.pyplot as plt\n",
    "import tensorflow as tf\n",
    "from tensorflow.keras.preprocessing import sequence\n",
    "from tensorflow.keras.models import Sequential\n",
    "from tensorflow.keras.layers import Dense, Embedding\n",
    "from tensorflow.keras.utils import to_categorical\n",
    "from tensorflow.keras.layers import Input, Flatten, Dropout, Activation\n",
    "from tensorflow.keras.layers import Conv1D, MaxPooling1D\n",
    "from tensorflow.keras.models import Model\n",
    "from tensorflow.keras.callbacks import ModelCheckpoint\n",
    "\n",
    "#creating a linear model using Sequential() method from Keras\n",
    "model = Sequential()\n",
    "\n",
    "#creating hidden layers for the model\n",
    "model.add(Conv1D(64, 5,padding='same',input_shape=(40,1)))\n",
    "model.add(Activation('relu'))\n",
    "model.add(Dropout(0.1))\n",
    "model.add(MaxPooling1D(pool_size=(4)))\n",
    "model.add(Conv1D(128, 5,padding='same',))\n",
    "model.add(Activation('relu'))\n",
    "model.add(Dropout(0.1))\n",
    "model.add(MaxPooling1D(pool_size=(4)))\n",
    "model.add(Conv1D(256, 5,padding='same',))\n",
    "model.add(Activation('relu'))\n",
    "model.add(Dropout(0.1))\n",
    "model.add(Flatten())\n",
    "model.add(Dense(8))\n",
    "model.add(Activation('softmax'))\n",
    "\n",
    "#creating a Compliler using rmsprop() to Maintain a moving average of the square of gradients\n",
    "opt = tf.keras.optimizers.RMSprop(lr=0.00005, rho=0.9, epsilon=1e-07, decay=0.0)"
   ]
  },
  {
   "cell_type": "markdown",
   "metadata": {},
   "source": [
    "__Now lets check our CNN model__"
   ]
  },
  {
   "cell_type": "code",
   "execution_count": 30,
   "metadata": {},
   "outputs": [
    {
     "name": "stdout",
     "output_type": "stream",
     "text": [
      "Model: \"sequential_3\"\n",
      "_________________________________________________________________\n",
      "Layer (type)                 Output Shape              Param #   \n",
      "=================================================================\n",
      "conv1d_9 (Conv1D)            (None, 40, 64)            384       \n",
      "_________________________________________________________________\n",
      "activation_12 (Activation)   (None, 40, 64)            0         \n",
      "_________________________________________________________________\n",
      "dropout_9 (Dropout)          (None, 40, 64)            0         \n",
      "_________________________________________________________________\n",
      "max_pooling1d_6 (MaxPooling1 (None, 10, 64)            0         \n",
      "_________________________________________________________________\n",
      "conv1d_10 (Conv1D)           (None, 10, 128)           41088     \n",
      "_________________________________________________________________\n",
      "activation_13 (Activation)   (None, 10, 128)           0         \n",
      "_________________________________________________________________\n",
      "dropout_10 (Dropout)         (None, 10, 128)           0         \n",
      "_________________________________________________________________\n",
      "max_pooling1d_7 (MaxPooling1 (None, 2, 128)            0         \n",
      "_________________________________________________________________\n",
      "conv1d_11 (Conv1D)           (None, 2, 256)            164096    \n",
      "_________________________________________________________________\n",
      "activation_14 (Activation)   (None, 2, 256)            0         \n",
      "_________________________________________________________________\n",
      "dropout_11 (Dropout)         (None, 2, 256)            0         \n",
      "_________________________________________________________________\n",
      "flatten_3 (Flatten)          (None, 512)               0         \n",
      "_________________________________________________________________\n",
      "dense_3 (Dense)              (None, 8)                 4104      \n",
      "_________________________________________________________________\n",
      "activation_15 (Activation)   (None, 8)                 0         \n",
      "=================================================================\n",
      "Total params: 209,672\n",
      "Trainable params: 209,672\n",
      "Non-trainable params: 0\n",
      "_________________________________________________________________\n"
     ]
    }
   ],
   "source": [
    "model.summary()"
   ]
  },
  {
   "cell_type": "code",
   "execution_count": 31,
   "metadata": {},
   "outputs": [],
   "source": [
    "#Lets make our model ready for training\n",
    "model.compile(loss='sparse_categorical_crossentropy',\n",
    "              optimizer=opt,\n",
    "              metrics=['accuracy'])"
   ]
  },
  {
   "cell_type": "code",
   "execution_count": 32,
   "metadata": {},
   "outputs": [
    {
     "name": "stdout",
     "output_type": "stream",
     "text": [
      "Train on 3939 samples, validate on 1313 samples\n",
      "Epoch 1/400\n",
      "3939/3939 [==============================] - 3s 859us/sample - loss: 3.5501 - acc: 0.1785 - val_loss: 1.7722 - val_acc: 0.3724\n",
      "Epoch 2/400\n",
      "3939/3939 [==============================] - 3s 657us/sample - loss: 2.2344 - acc: 0.3178 - val_loss: 1.4752 - val_acc: 0.5438\n",
      "Epoch 3/400\n",
      "3939/3939 [==============================] - 3s 668us/sample - loss: 1.7761 - acc: 0.4125 - val_loss: 1.4450 - val_acc: 0.5103\n",
      "Epoch 4/400\n",
      "3939/3939 [==============================] - 3s 700us/sample - loss: 1.5695 - acc: 0.4735 - val_loss: 1.1565 - val_acc: 0.6070\n",
      "Epoch 5/400\n",
      "3939/3939 [==============================] - 3s 667us/sample - loss: 1.4172 - acc: 0.5093 - val_loss: 1.1760 - val_acc: 0.6002\n",
      "Epoch 6/400\n",
      "3939/3939 [==============================] - 3s 667us/sample - loss: 1.3127 - acc: 0.5390 - val_loss: 1.0519 - val_acc: 0.6222\n",
      "Epoch 7/400\n",
      "3939/3939 [==============================] - 3s 675us/sample - loss: 1.2497 - acc: 0.5737 - val_loss: 0.9765 - val_acc: 0.6542\n",
      "Epoch 8/400\n",
      "3939/3939 [==============================] - 3s 669us/sample - loss: 1.1775 - acc: 0.5880 - val_loss: 0.9400 - val_acc: 0.6618\n",
      "Epoch 9/400\n",
      "3939/3939 [==============================] - 3s 659us/sample - loss: 1.1278 - acc: 0.6009 - val_loss: 0.9535 - val_acc: 0.6558\n",
      "Epoch 10/400\n",
      "3939/3939 [==============================] - 3s 669us/sample - loss: 1.0983 - acc: 0.5984 - val_loss: 0.8739 - val_acc: 0.6801\n",
      "Epoch 11/400\n",
      "3939/3939 [==============================] - 3s 670us/sample - loss: 1.0449 - acc: 0.6271 - val_loss: 0.8321 - val_acc: 0.7045\n",
      "Epoch 12/400\n",
      "3939/3939 [==============================] - 3s 675us/sample - loss: 1.0298 - acc: 0.6329 - val_loss: 0.8255 - val_acc: 0.7045\n",
      "Epoch 13/400\n",
      "3939/3939 [==============================] - 3s 668us/sample - loss: 0.9941 - acc: 0.6486 - val_loss: 0.8284 - val_acc: 0.6961\n",
      "Epoch 14/400\n",
      "3939/3939 [==============================] - 3s 676us/sample - loss: 0.9500 - acc: 0.6486 - val_loss: 0.7957 - val_acc: 0.7098\n",
      "Epoch 15/400\n",
      "3939/3939 [==============================] - 3s 686us/sample - loss: 0.9396 - acc: 0.6593 - val_loss: 0.7618 - val_acc: 0.7212\n",
      "Epoch 16/400\n",
      "3939/3939 [==============================] - 3s 671us/sample - loss: 0.9186 - acc: 0.6649 - val_loss: 0.7434 - val_acc: 0.7312\n",
      "Epoch 17/400\n",
      "3939/3939 [==============================] - 3s 674us/sample - loss: 0.9111 - acc: 0.6629 - val_loss: 0.7611 - val_acc: 0.7174\n",
      "Epoch 18/400\n",
      "3939/3939 [==============================] - 3s 670us/sample - loss: 0.8838 - acc: 0.6756 - val_loss: 0.7435 - val_acc: 0.7167\n",
      "Epoch 19/400\n",
      "3939/3939 [==============================] - 3s 667us/sample - loss: 0.8645 - acc: 0.6806 - val_loss: 0.7686 - val_acc: 0.7068\n",
      "Epoch 20/400\n",
      "3939/3939 [==============================] - 3s 667us/sample - loss: 0.8512 - acc: 0.6778 - val_loss: 0.7327 - val_acc: 0.7258\n",
      "Epoch 21/400\n",
      "3939/3939 [==============================] - 3s 675us/sample - loss: 0.8401 - acc: 0.6839 - val_loss: 0.7205 - val_acc: 0.7312\n",
      "Epoch 22/400\n",
      "3939/3939 [==============================] - 3s 671us/sample - loss: 0.8302 - acc: 0.6913 - val_loss: 0.6896 - val_acc: 0.7403\n",
      "Epoch 23/400\n",
      "3939/3939 [==============================] - 3s 667us/sample - loss: 0.8136 - acc: 0.7017 - val_loss: 0.7018 - val_acc: 0.7372\n",
      "Epoch 24/400\n",
      "3939/3939 [==============================] - 3s 662us/sample - loss: 0.7959 - acc: 0.7080 - val_loss: 0.6918 - val_acc: 0.7502\n",
      "Epoch 25/400\n",
      "3939/3939 [==============================] - 3s 672us/sample - loss: 0.7914 - acc: 0.7032 - val_loss: 0.6775 - val_acc: 0.7418\n",
      "Epoch 26/400\n",
      "3939/3939 [==============================] - 3s 669us/sample - loss: 0.7697 - acc: 0.7197 - val_loss: 0.6859 - val_acc: 0.7357\n",
      "Epoch 27/400\n",
      "3939/3939 [==============================] - 3s 671us/sample - loss: 0.7625 - acc: 0.7152 - val_loss: 0.6614 - val_acc: 0.7433\n",
      "Epoch 28/400\n",
      "3939/3939 [==============================] - 3s 685us/sample - loss: 0.7507 - acc: 0.7230 - val_loss: 0.6525 - val_acc: 0.7570\n",
      "Epoch 29/400\n",
      "3939/3939 [==============================] - 3s 676us/sample - loss: 0.7561 - acc: 0.7144 - val_loss: 0.6949 - val_acc: 0.7327\n",
      "Epoch 30/400\n",
      "3939/3939 [==============================] - 3s 669us/sample - loss: 0.7327 - acc: 0.7309 - val_loss: 0.6396 - val_acc: 0.7624\n",
      "Epoch 31/400\n",
      "3939/3939 [==============================] - 3s 662us/sample - loss: 0.7339 - acc: 0.7218 - val_loss: 0.6545 - val_acc: 0.7418\n",
      "Epoch 32/400\n",
      "3939/3939 [==============================] - 3s 672us/sample - loss: 0.7276 - acc: 0.7312 - val_loss: 0.6650 - val_acc: 0.7441\n",
      "Epoch 33/400\n",
      "3939/3939 [==============================] - 3s 662us/sample - loss: 0.7127 - acc: 0.7350 - val_loss: 0.6274 - val_acc: 0.7647\n",
      "Epoch 34/400\n",
      "3939/3939 [==============================] - 3s 675us/sample - loss: 0.7046 - acc: 0.7393 - val_loss: 0.6616 - val_acc: 0.7441\n",
      "Epoch 35/400\n",
      "3939/3939 [==============================] - 3s 671us/sample - loss: 0.7048 - acc: 0.7421 - val_loss: 0.6364 - val_acc: 0.7662\n",
      "Epoch 36/400\n",
      "3939/3939 [==============================] - 3s 673us/sample - loss: 0.7015 - acc: 0.7423 - val_loss: 0.6178 - val_acc: 0.7791\n",
      "Epoch 37/400\n",
      "3939/3939 [==============================] - 3s 668us/sample - loss: 0.6866 - acc: 0.7464 - val_loss: 0.6126 - val_acc: 0.7647\n",
      "Epoch 38/400\n",
      "3939/3939 [==============================] - 3s 673us/sample - loss: 0.6874 - acc: 0.7471 - val_loss: 0.6038 - val_acc: 0.7677\n",
      "Epoch 39/400\n",
      "3939/3939 [==============================] - 3s 669us/sample - loss: 0.6756 - acc: 0.7507 - val_loss: 0.5873 - val_acc: 0.7776\n",
      "Epoch 40/400\n",
      "3939/3939 [==============================] - 3s 680us/sample - loss: 0.6567 - acc: 0.7593 - val_loss: 0.5925 - val_acc: 0.7738\n",
      "Epoch 41/400\n",
      "3939/3939 [==============================] - 3s 670us/sample - loss: 0.6609 - acc: 0.7535 - val_loss: 0.5937 - val_acc: 0.7768\n",
      "Epoch 42/400\n",
      "3939/3939 [==============================] - 3s 684us/sample - loss: 0.6528 - acc: 0.7591 - val_loss: 0.5858 - val_acc: 0.7761\n",
      "Epoch 43/400\n",
      "3939/3939 [==============================] - 3s 688us/sample - loss: 0.6533 - acc: 0.7565 - val_loss: 0.5892 - val_acc: 0.7784\n",
      "Epoch 44/400\n",
      "3939/3939 [==============================] - 3s 669us/sample - loss: 0.6454 - acc: 0.7644 - val_loss: 0.5982 - val_acc: 0.7768\n",
      "Epoch 45/400\n",
      "3939/3939 [==============================] - 3s 753us/sample - loss: 0.6298 - acc: 0.7639 - val_loss: 0.5792 - val_acc: 0.7822\n",
      "Epoch 46/400\n",
      "3939/3939 [==============================] - 4s 959us/sample - loss: 0.6360 - acc: 0.7664 - val_loss: 0.5846 - val_acc: 0.7776\n",
      "Epoch 47/400\n",
      "3939/3939 [==============================] - 3s 671us/sample - loss: 0.6199 - acc: 0.7774 - val_loss: 0.5614 - val_acc: 0.7890\n",
      "Epoch 48/400\n",
      "3939/3939 [==============================] - 3s 695us/sample - loss: 0.6143 - acc: 0.7761 - val_loss: 0.5837 - val_acc: 0.7791\n",
      "Epoch 49/400\n",
      "3939/3939 [==============================] - 3s 689us/sample - loss: 0.6102 - acc: 0.7733 - val_loss: 0.5548 - val_acc: 0.7852\n",
      "Epoch 50/400\n",
      "3939/3939 [==============================] - 3s 672us/sample - loss: 0.6017 - acc: 0.7784 - val_loss: 0.5629 - val_acc: 0.7890\n",
      "Epoch 51/400\n",
      "3939/3939 [==============================] - 3s 669us/sample - loss: 0.5970 - acc: 0.7809 - val_loss: 0.5608 - val_acc: 0.7936\n",
      "Epoch 52/400\n",
      "3939/3939 [==============================] - 3s 664us/sample - loss: 0.6039 - acc: 0.7799 - val_loss: 0.5689 - val_acc: 0.7753\n",
      "Epoch 53/400\n",
      "3939/3939 [==============================] - 3s 676us/sample - loss: 0.5906 - acc: 0.7834 - val_loss: 0.5469 - val_acc: 0.7936\n",
      "Epoch 54/400\n",
      "3939/3939 [==============================] - 3s 676us/sample - loss: 0.5786 - acc: 0.7847 - val_loss: 0.5420 - val_acc: 0.7974\n",
      "Epoch 55/400\n",
      "3939/3939 [==============================] - 3s 659us/sample - loss: 0.5941 - acc: 0.7817 - val_loss: 0.5409 - val_acc: 0.7982\n",
      "Epoch 56/400\n",
      "3939/3939 [==============================] - 3s 723us/sample - loss: 0.5817 - acc: 0.7809 - val_loss: 0.5425 - val_acc: 0.7966\n",
      "Epoch 57/400\n",
      "3939/3939 [==============================] - 3s 699us/sample - loss: 0.5730 - acc: 0.7890 - val_loss: 0.5593 - val_acc: 0.7936\n",
      "Epoch 58/400\n",
      "3939/3939 [==============================] - 3s 688us/sample - loss: 0.5834 - acc: 0.7873 - val_loss: 0.5376 - val_acc: 0.7974\n",
      "Epoch 59/400\n",
      "3939/3939 [==============================] - 3s 658us/sample - loss: 0.5597 - acc: 0.7949 - val_loss: 0.5324 - val_acc: 0.7974\n",
      "Epoch 60/400\n",
      "3939/3939 [==============================] - 3s 690us/sample - loss: 0.5598 - acc: 0.7931 - val_loss: 0.5300 - val_acc: 0.8012\n",
      "Epoch 61/400\n",
      "3939/3939 [==============================] - 3s 666us/sample - loss: 0.5625 - acc: 0.7966 - val_loss: 0.5425 - val_acc: 0.7921\n",
      "Epoch 62/400\n",
      "3939/3939 [==============================] - 3s 668us/sample - loss: 0.5602 - acc: 0.7949 - val_loss: 0.5292 - val_acc: 0.8012\n",
      "Epoch 63/400\n",
      "3939/3939 [==============================] - 3s 726us/sample - loss: 0.5498 - acc: 0.7974 - val_loss: 0.5310 - val_acc: 0.7944\n",
      "Epoch 64/400\n",
      "3939/3939 [==============================] - 3s 693us/sample - loss: 0.5485 - acc: 0.8012 - val_loss: 0.5164 - val_acc: 0.8096\n",
      "Epoch 65/400\n",
      "3939/3939 [==============================] - 3s 674us/sample - loss: 0.5451 - acc: 0.8032 - val_loss: 0.5079 - val_acc: 0.8111\n",
      "Epoch 66/400\n",
      "3939/3939 [==============================] - 3s 694us/sample - loss: 0.5397 - acc: 0.8030 - val_loss: 0.5066 - val_acc: 0.8104\n",
      "Epoch 67/400\n",
      "3939/3939 [==============================] - 3s 698us/sample - loss: 0.5409 - acc: 0.8002 - val_loss: 0.5202 - val_acc: 0.8035\n",
      "Epoch 68/400\n",
      "3939/3939 [==============================] - 3s 716us/sample - loss: 0.5287 - acc: 0.8017 - val_loss: 0.5062 - val_acc: 0.8065\n",
      "Epoch 69/400\n",
      "3939/3939 [==============================] - 3s 720us/sample - loss: 0.5370 - acc: 0.8045 - val_loss: 0.5071 - val_acc: 0.8104\n",
      "Epoch 70/400\n",
      "3939/3939 [==============================] - 3s 694us/sample - loss: 0.5244 - acc: 0.8063 - val_loss: 0.5009 - val_acc: 0.8088\n",
      "Epoch 71/400\n",
      "3939/3939 [==============================] - 3s 712us/sample - loss: 0.5244 - acc: 0.8126 - val_loss: 0.5126 - val_acc: 0.8142\n",
      "Epoch 72/400\n",
      "3939/3939 [==============================] - 3s 732us/sample - loss: 0.5175 - acc: 0.8192 - val_loss: 0.4943 - val_acc: 0.8088\n",
      "Epoch 73/400\n",
      "3939/3939 [==============================] - 3s 710us/sample - loss: 0.5169 - acc: 0.8093 - val_loss: 0.5096 - val_acc: 0.8126\n",
      "Epoch 74/400\n",
      "3939/3939 [==============================] - 3s 691us/sample - loss: 0.5071 - acc: 0.8129 - val_loss: 0.4878 - val_acc: 0.8119\n",
      "Epoch 75/400\n",
      "3939/3939 [==============================] - 3s 674us/sample - loss: 0.5099 - acc: 0.8157 - val_loss: 0.5025 - val_acc: 0.8104\n",
      "Epoch 76/400\n",
      "3939/3939 [==============================] - 3s 699us/sample - loss: 0.5047 - acc: 0.8205 - val_loss: 0.4902 - val_acc: 0.8210\n",
      "Epoch 77/400\n",
      "3939/3939 [==============================] - 3s 665us/sample - loss: 0.5063 - acc: 0.8144 - val_loss: 0.4935 - val_acc: 0.8157\n",
      "Epoch 78/400\n",
      "3939/3939 [==============================] - 3s 694us/sample - loss: 0.5026 - acc: 0.8195 - val_loss: 0.4811 - val_acc: 0.8264\n",
      "Epoch 79/400\n",
      "3939/3939 [==============================] - 3s 681us/sample - loss: 0.4970 - acc: 0.8228 - val_loss: 0.4803 - val_acc: 0.8149\n",
      "Epoch 80/400\n",
      "3939/3939 [==============================] - 3s 695us/sample - loss: 0.4945 - acc: 0.8157 - val_loss: 0.4945 - val_acc: 0.8134\n",
      "Epoch 81/400\n",
      "3939/3939 [==============================] - 3s 690us/sample - loss: 0.5084 - acc: 0.8139 - val_loss: 0.4950 - val_acc: 0.8149\n",
      "Epoch 82/400\n",
      "3939/3939 [==============================] - 3s 670us/sample - loss: 0.4853 - acc: 0.8213 - val_loss: 0.4836 - val_acc: 0.8218\n",
      "Epoch 83/400\n",
      "3939/3939 [==============================] - 3s 671us/sample - loss: 0.4748 - acc: 0.8243 - val_loss: 0.4875 - val_acc: 0.8119\n",
      "Epoch 84/400\n",
      "3939/3939 [==============================] - 3s 696us/sample - loss: 0.4836 - acc: 0.8256 - val_loss: 0.4721 - val_acc: 0.8279\n",
      "Epoch 85/400\n",
      "3939/3939 [==============================] - 3s 716us/sample - loss: 0.4737 - acc: 0.8271 - val_loss: 0.4883 - val_acc: 0.8271\n",
      "Epoch 86/400\n",
      "3939/3939 [==============================] - 3s 695us/sample - loss: 0.4748 - acc: 0.8350 - val_loss: 0.4836 - val_acc: 0.8157\n",
      "Epoch 87/400\n",
      "3939/3939 [==============================] - 3s 669us/sample - loss: 0.4758 - acc: 0.8231 - val_loss: 0.4667 - val_acc: 0.8248\n",
      "Epoch 88/400\n",
      "3939/3939 [==============================] - 3s 670us/sample - loss: 0.4718 - acc: 0.8297 - val_loss: 0.4823 - val_acc: 0.8225\n",
      "Epoch 89/400\n",
      "3939/3939 [==============================] - 3s 663us/sample - loss: 0.4705 - acc: 0.8220 - val_loss: 0.4829 - val_acc: 0.8134\n",
      "Epoch 90/400\n",
      "3939/3939 [==============================] - 3s 686us/sample - loss: 0.4737 - acc: 0.8281 - val_loss: 0.4781 - val_acc: 0.8187\n",
      "Epoch 91/400\n",
      "3939/3939 [==============================] - 3s 665us/sample - loss: 0.4654 - acc: 0.8266 - val_loss: 0.4840 - val_acc: 0.8172\n",
      "Epoch 92/400\n",
      "3939/3939 [==============================] - 3s 664us/sample - loss: 0.4642 - acc: 0.8304 - val_loss: 0.4537 - val_acc: 0.8241\n",
      "Epoch 93/400\n",
      "3939/3939 [==============================] - 3s 670us/sample - loss: 0.4585 - acc: 0.8340 - val_loss: 0.4701 - val_acc: 0.8248\n",
      "Epoch 94/400\n",
      "3939/3939 [==============================] - 3s 687us/sample - loss: 0.4576 - acc: 0.8365 - val_loss: 0.4685 - val_acc: 0.8195\n",
      "Epoch 95/400\n",
      "3939/3939 [==============================] - 3s 667us/sample - loss: 0.4636 - acc: 0.8264 - val_loss: 0.4786 - val_acc: 0.8225\n",
      "Epoch 96/400\n",
      "3939/3939 [==============================] - 3s 682us/sample - loss: 0.4493 - acc: 0.8378 - val_loss: 0.4650 - val_acc: 0.8271\n",
      "Epoch 97/400\n",
      "3939/3939 [==============================] - 3s 674us/sample - loss: 0.4531 - acc: 0.8398 - val_loss: 0.4563 - val_acc: 0.8187\n",
      "Epoch 98/400\n",
      "3939/3939 [==============================] - 3s 657us/sample - loss: 0.4499 - acc: 0.8368 - val_loss: 0.4578 - val_acc: 0.8271\n",
      "Epoch 99/400\n",
      "3939/3939 [==============================] - 3s 673us/sample - loss: 0.4461 - acc: 0.8337 - val_loss: 0.4721 - val_acc: 0.8332\n",
      "Epoch 100/400\n",
      "3939/3939 [==============================] - 3s 674us/sample - loss: 0.4423 - acc: 0.8368 - val_loss: 0.4525 - val_acc: 0.8378\n",
      "Epoch 101/400\n",
      "3939/3939 [==============================] - 3s 665us/sample - loss: 0.4400 - acc: 0.8347 - val_loss: 0.4670 - val_acc: 0.8241\n",
      "Epoch 102/400\n",
      "3939/3939 [==============================] - 3s 662us/sample - loss: 0.4391 - acc: 0.8416 - val_loss: 0.4721 - val_acc: 0.8264\n",
      "Epoch 103/400\n",
      "3939/3939 [==============================] - 3s 668us/sample - loss: 0.4369 - acc: 0.8416 - val_loss: 0.4766 - val_acc: 0.8271\n",
      "Epoch 104/400\n",
      "3939/3939 [==============================] - 3s 675us/sample - loss: 0.4306 - acc: 0.8441 - val_loss: 0.4537 - val_acc: 0.8324\n",
      "Epoch 105/400\n",
      "3939/3939 [==============================] - 3s 666us/sample - loss: 0.4282 - acc: 0.8436 - val_loss: 0.4560 - val_acc: 0.8309\n",
      "Epoch 106/400\n",
      "3939/3939 [==============================] - 3s 660us/sample - loss: 0.4278 - acc: 0.8441 - val_loss: 0.4426 - val_acc: 0.8401\n",
      "Epoch 107/400\n",
      "3939/3939 [==============================] - 3s 655us/sample - loss: 0.4228 - acc: 0.8464 - val_loss: 0.4594 - val_acc: 0.8370\n",
      "Epoch 108/400\n",
      "3939/3939 [==============================] - 3s 667us/sample - loss: 0.4300 - acc: 0.8462 - val_loss: 0.4427 - val_acc: 0.8355\n",
      "Epoch 109/400\n",
      "3939/3939 [==============================] - 3s 661us/sample - loss: 0.4198 - acc: 0.8492 - val_loss: 0.4631 - val_acc: 0.8241\n",
      "Epoch 110/400\n",
      "3939/3939 [==============================] - 3s 656us/sample - loss: 0.4151 - acc: 0.8507 - val_loss: 0.4591 - val_acc: 0.8355\n",
      "Epoch 111/400\n",
      "3939/3939 [==============================] - 3s 662us/sample - loss: 0.4225 - acc: 0.8462 - val_loss: 0.4610 - val_acc: 0.8271\n",
      "Epoch 112/400\n",
      "3939/3939 [==============================] - 3s 693us/sample - loss: 0.4140 - acc: 0.8533 - val_loss: 0.4466 - val_acc: 0.8393\n",
      "Epoch 113/400\n",
      "3939/3939 [==============================] - 3s 671us/sample - loss: 0.4047 - acc: 0.8520 - val_loss: 0.4425 - val_acc: 0.8363\n",
      "Epoch 114/400\n",
      "3939/3939 [==============================] - 3s 699us/sample - loss: 0.4103 - acc: 0.8467 - val_loss: 0.4558 - val_acc: 0.8355\n",
      "Epoch 115/400\n",
      "3939/3939 [==============================] - 3s 666us/sample - loss: 0.4079 - acc: 0.8502 - val_loss: 0.4305 - val_acc: 0.8484\n",
      "Epoch 116/400\n",
      "3939/3939 [==============================] - 3s 666us/sample - loss: 0.4084 - acc: 0.8512 - val_loss: 0.4386 - val_acc: 0.8378\n",
      "Epoch 117/400\n"
     ]
    },
    {
     "name": "stdout",
     "output_type": "stream",
     "text": [
      "3939/3939 [==============================] - 3s 649us/sample - loss: 0.4146 - acc: 0.8517 - val_loss: 0.4389 - val_acc: 0.8385\n",
      "Epoch 118/400\n",
      "3939/3939 [==============================] - 3s 653us/sample - loss: 0.3999 - acc: 0.8520 - val_loss: 0.4615 - val_acc: 0.8347\n",
      "Epoch 119/400\n",
      "3939/3939 [==============================] - 3s 707us/sample - loss: 0.3960 - acc: 0.8515 - val_loss: 0.4343 - val_acc: 0.8431\n",
      "Epoch 120/400\n",
      "3939/3939 [==============================] - 3s 687us/sample - loss: 0.3926 - acc: 0.8563 - val_loss: 0.4427 - val_acc: 0.8401\n",
      "Epoch 121/400\n",
      "3939/3939 [==============================] - 3s 720us/sample - loss: 0.3850 - acc: 0.8566 - val_loss: 0.4433 - val_acc: 0.8408\n",
      "Epoch 122/400\n",
      "3939/3939 [==============================] - 3s 734us/sample - loss: 0.4024 - acc: 0.8515 - val_loss: 0.4359 - val_acc: 0.8401\n",
      "Epoch 123/400\n",
      "3939/3939 [==============================] - 3s 775us/sample - loss: 0.3858 - acc: 0.8568 - val_loss: 0.4398 - val_acc: 0.8347\n",
      "Epoch 124/400\n",
      "3939/3939 [==============================] - 3s 756us/sample - loss: 0.3882 - acc: 0.8578 - val_loss: 0.4421 - val_acc: 0.8385\n",
      "Epoch 125/400\n",
      "3939/3939 [==============================] - 3s 782us/sample - loss: 0.3912 - acc: 0.8586 - val_loss: 0.4452 - val_acc: 0.8439\n",
      "Epoch 126/400\n",
      "3939/3939 [==============================] - 3s 759us/sample - loss: 0.3834 - acc: 0.8621 - val_loss: 0.4303 - val_acc: 0.8462\n",
      "Epoch 127/400\n",
      "3939/3939 [==============================] - 3s 744us/sample - loss: 0.3918 - acc: 0.8609 - val_loss: 0.4207 - val_acc: 0.8515\n",
      "Epoch 128/400\n",
      "3939/3939 [==============================] - 3s 741us/sample - loss: 0.3873 - acc: 0.8581 - val_loss: 0.4245 - val_acc: 0.8462\n",
      "Epoch 129/400\n",
      "3939/3939 [==============================] - 3s 756us/sample - loss: 0.3746 - acc: 0.8632 - val_loss: 0.4218 - val_acc: 0.8401\n",
      "Epoch 130/400\n",
      "3939/3939 [==============================] - 3s 780us/sample - loss: 0.3786 - acc: 0.8619 - val_loss: 0.4301 - val_acc: 0.8416\n",
      "Epoch 131/400\n",
      "3939/3939 [==============================] - 3s 762us/sample - loss: 0.3720 - acc: 0.8632 - val_loss: 0.4305 - val_acc: 0.8401\n",
      "Epoch 132/400\n",
      "3939/3939 [==============================] - 3s 768us/sample - loss: 0.3819 - acc: 0.8614 - val_loss: 0.4287 - val_acc: 0.8378\n",
      "Epoch 133/400\n",
      "3939/3939 [==============================] - 3s 744us/sample - loss: 0.3661 - acc: 0.8660 - val_loss: 0.4245 - val_acc: 0.8446\n",
      "Epoch 134/400\n",
      "3939/3939 [==============================] - 3s 774us/sample - loss: 0.3677 - acc: 0.8599 - val_loss: 0.4187 - val_acc: 0.8469\n",
      "Epoch 135/400\n",
      "3939/3939 [==============================] - 3s 751us/sample - loss: 0.3661 - acc: 0.8660 - val_loss: 0.4226 - val_acc: 0.8507\n",
      "Epoch 136/400\n",
      "3939/3939 [==============================] - 3s 744us/sample - loss: 0.3643 - acc: 0.8642 - val_loss: 0.4224 - val_acc: 0.8469\n",
      "Epoch 137/400\n",
      "3939/3939 [==============================] - 3s 759us/sample - loss: 0.3770 - acc: 0.8675 - val_loss: 0.4396 - val_acc: 0.8408\n",
      "Epoch 138/400\n",
      "3939/3939 [==============================] - 3s 749us/sample - loss: 0.3658 - acc: 0.8680 - val_loss: 0.4298 - val_acc: 0.8454\n",
      "Epoch 139/400\n",
      "3939/3939 [==============================] - 3s 749us/sample - loss: 0.3593 - acc: 0.8682 - val_loss: 0.4069 - val_acc: 0.8576\n",
      "Epoch 140/400\n",
      "3939/3939 [==============================] - 3s 747us/sample - loss: 0.3544 - acc: 0.8708 - val_loss: 0.4291 - val_acc: 0.8462\n",
      "Epoch 141/400\n",
      "3939/3939 [==============================] - 3s 750us/sample - loss: 0.3648 - acc: 0.8594 - val_loss: 0.4124 - val_acc: 0.8538\n",
      "Epoch 142/400\n",
      "3939/3939 [==============================] - 3s 741us/sample - loss: 0.3625 - acc: 0.8644 - val_loss: 0.4131 - val_acc: 0.8561\n",
      "Epoch 143/400\n",
      "3939/3939 [==============================] - 3s 763us/sample - loss: 0.3590 - acc: 0.8657 - val_loss: 0.4273 - val_acc: 0.8500\n",
      "Epoch 144/400\n",
      "3939/3939 [==============================] - 3s 758us/sample - loss: 0.3457 - acc: 0.8733 - val_loss: 0.4184 - val_acc: 0.8477\n",
      "Epoch 145/400\n",
      "3939/3939 [==============================] - 3s 750us/sample - loss: 0.3411 - acc: 0.8728 - val_loss: 0.4083 - val_acc: 0.8484\n",
      "Epoch 146/400\n",
      "3939/3939 [==============================] - 3s 792us/sample - loss: 0.3395 - acc: 0.8695 - val_loss: 0.4108 - val_acc: 0.8530\n",
      "Epoch 147/400\n",
      "3939/3939 [==============================] - 3s 776us/sample - loss: 0.3471 - acc: 0.8779 - val_loss: 0.4044 - val_acc: 0.8538\n",
      "Epoch 148/400\n",
      "3939/3939 [==============================] - 3s 762us/sample - loss: 0.3450 - acc: 0.8746 - val_loss: 0.4103 - val_acc: 0.8492\n",
      "Epoch 149/400\n",
      "3939/3939 [==============================] - 3s 752us/sample - loss: 0.3416 - acc: 0.8781 - val_loss: 0.4158 - val_acc: 0.8530\n",
      "Epoch 150/400\n",
      "3939/3939 [==============================] - 3s 741us/sample - loss: 0.3402 - acc: 0.8720 - val_loss: 0.4027 - val_acc: 0.8545\n",
      "Epoch 151/400\n",
      "3939/3939 [==============================] - 3s 779us/sample - loss: 0.3390 - acc: 0.8741 - val_loss: 0.4119 - val_acc: 0.8522\n",
      "Epoch 152/400\n",
      "3939/3939 [==============================] - 3s 774us/sample - loss: 0.3383 - acc: 0.8753 - val_loss: 0.4079 - val_acc: 0.8561\n",
      "Epoch 153/400\n",
      "3939/3939 [==============================] - 3s 767us/sample - loss: 0.3310 - acc: 0.8817 - val_loss: 0.4170 - val_acc: 0.8576\n",
      "Epoch 154/400\n",
      "3939/3939 [==============================] - 3s 739us/sample - loss: 0.3316 - acc: 0.8769 - val_loss: 0.4214 - val_acc: 0.8515\n",
      "Epoch 155/400\n",
      "3939/3939 [==============================] - 3s 789us/sample - loss: 0.3276 - acc: 0.8825 - val_loss: 0.4248 - val_acc: 0.8484\n",
      "Epoch 156/400\n",
      "3939/3939 [==============================] - 3s 747us/sample - loss: 0.3354 - acc: 0.8794 - val_loss: 0.4142 - val_acc: 0.8515\n",
      "Epoch 157/400\n",
      "3939/3939 [==============================] - 3s 748us/sample - loss: 0.3288 - acc: 0.8761 - val_loss: 0.4019 - val_acc: 0.8591\n",
      "Epoch 158/400\n",
      "3939/3939 [==============================] - 3s 768us/sample - loss: 0.3280 - acc: 0.8776 - val_loss: 0.4121 - val_acc: 0.8538\n",
      "Epoch 159/400\n",
      "3939/3939 [==============================] - 3s 753us/sample - loss: 0.3249 - acc: 0.8830 - val_loss: 0.4138 - val_acc: 0.8614\n",
      "Epoch 160/400\n",
      "3939/3939 [==============================] - 3s 746us/sample - loss: 0.3235 - acc: 0.8797 - val_loss: 0.3885 - val_acc: 0.8660\n",
      "Epoch 161/400\n",
      "3939/3939 [==============================] - 3s 736us/sample - loss: 0.3201 - acc: 0.8888 - val_loss: 0.4023 - val_acc: 0.8553\n",
      "Epoch 162/400\n",
      "3939/3939 [==============================] - 3s 775us/sample - loss: 0.3133 - acc: 0.8880 - val_loss: 0.4132 - val_acc: 0.8507\n",
      "Epoch 163/400\n",
      "3939/3939 [==============================] - 3s 760us/sample - loss: 0.3277 - acc: 0.8797 - val_loss: 0.4178 - val_acc: 0.8484\n",
      "Epoch 164/400\n",
      "3939/3939 [==============================] - 3s 745us/sample - loss: 0.3273 - acc: 0.8776 - val_loss: 0.3983 - val_acc: 0.8591\n",
      "Epoch 165/400\n",
      "3939/3939 [==============================] - 3s 734us/sample - loss: 0.3075 - acc: 0.8850 - val_loss: 0.4004 - val_acc: 0.8591\n",
      "Epoch 166/400\n",
      "3939/3939 [==============================] - 3s 798us/sample - loss: 0.3110 - acc: 0.8860 - val_loss: 0.4121 - val_acc: 0.8515\n",
      "Epoch 167/400\n",
      "3939/3939 [==============================] - 3s 735us/sample - loss: 0.3071 - acc: 0.8903 - val_loss: 0.3953 - val_acc: 0.8553\n",
      "Epoch 168/400\n",
      "3939/3939 [==============================] - 3s 745us/sample - loss: 0.3083 - acc: 0.8873 - val_loss: 0.4089 - val_acc: 0.8538\n",
      "Epoch 169/400\n",
      "3939/3939 [==============================] - 3s 744us/sample - loss: 0.3095 - acc: 0.8888 - val_loss: 0.4112 - val_acc: 0.8530\n",
      "Epoch 170/400\n",
      "3939/3939 [==============================] - 3s 756us/sample - loss: 0.3159 - acc: 0.8832 - val_loss: 0.4327 - val_acc: 0.8454\n",
      "Epoch 171/400\n",
      "3939/3939 [==============================] - 3s 763us/sample - loss: 0.3166 - acc: 0.8863 - val_loss: 0.3983 - val_acc: 0.8583\n",
      "Epoch 172/400\n",
      "3939/3939 [==============================] - 3s 748us/sample - loss: 0.3042 - acc: 0.8931 - val_loss: 0.3890 - val_acc: 0.8660\n",
      "Epoch 173/400\n",
      "3939/3939 [==============================] - 3s 746us/sample - loss: 0.2997 - acc: 0.8878 - val_loss: 0.3975 - val_acc: 0.8629\n",
      "Epoch 174/400\n",
      "3939/3939 [==============================] - 3s 762us/sample - loss: 0.3102 - acc: 0.8863 - val_loss: 0.3903 - val_acc: 0.8583\n",
      "Epoch 175/400\n",
      "3939/3939 [==============================] - 3s 731us/sample - loss: 0.2967 - acc: 0.8893 - val_loss: 0.3944 - val_acc: 0.8576\n",
      "Epoch 176/400\n",
      "3939/3939 [==============================] - 3s 766us/sample - loss: 0.2967 - acc: 0.8908 - val_loss: 0.3956 - val_acc: 0.8606\n",
      "Epoch 177/400\n",
      "3939/3939 [==============================] - 3s 761us/sample - loss: 0.2937 - acc: 0.8916 - val_loss: 0.3984 - val_acc: 0.8522\n",
      "Epoch 178/400\n",
      "3939/3939 [==============================] - 3s 773us/sample - loss: 0.3008 - acc: 0.8941 - val_loss: 0.3886 - val_acc: 0.8652\n",
      "Epoch 179/400\n",
      "3939/3939 [==============================] - 3s 763us/sample - loss: 0.2968 - acc: 0.8946 - val_loss: 0.3921 - val_acc: 0.8591\n",
      "Epoch 180/400\n",
      "3939/3939 [==============================] - 3s 750us/sample - loss: 0.3052 - acc: 0.8886 - val_loss: 0.3930 - val_acc: 0.8576\n",
      "Epoch 181/400\n",
      "3939/3939 [==============================] - 3s 740us/sample - loss: 0.2938 - acc: 0.8979 - val_loss: 0.3951 - val_acc: 0.8591\n",
      "Epoch 182/400\n",
      "3939/3939 [==============================] - 3s 747us/sample - loss: 0.2977 - acc: 0.8934 - val_loss: 0.3975 - val_acc: 0.8675\n",
      "Epoch 183/400\n",
      "3939/3939 [==============================] - 3s 766us/sample - loss: 0.2959 - acc: 0.8997 - val_loss: 0.4000 - val_acc: 0.8522\n",
      "Epoch 184/400\n",
      "3939/3939 [==============================] - 3s 744us/sample - loss: 0.2930 - acc: 0.8941 - val_loss: 0.3881 - val_acc: 0.8667\n",
      "Epoch 185/400\n",
      "3939/3939 [==============================] - 3s 744us/sample - loss: 0.2772 - acc: 0.8982 - val_loss: 0.4046 - val_acc: 0.8553\n",
      "Epoch 186/400\n",
      "3939/3939 [==============================] - 3s 739us/sample - loss: 0.2970 - acc: 0.8911 - val_loss: 0.3927 - val_acc: 0.8568\n",
      "Epoch 187/400\n",
      "3939/3939 [==============================] - 3s 736us/sample - loss: 0.2822 - acc: 0.8979 - val_loss: 0.3934 - val_acc: 0.8568\n",
      "Epoch 188/400\n",
      "3939/3939 [==============================] - 3s 751us/sample - loss: 0.2765 - acc: 0.9010 - val_loss: 0.4215 - val_acc: 0.8492\n",
      "Epoch 189/400\n",
      "3939/3939 [==============================] - 3s 737us/sample - loss: 0.2849 - acc: 0.9012 - val_loss: 0.3900 - val_acc: 0.8591\n",
      "Epoch 190/400\n",
      "3939/3939 [==============================] - 3s 792us/sample - loss: 0.2912 - acc: 0.8977 - val_loss: 0.3894 - val_acc: 0.8583\n",
      "Epoch 191/400\n",
      "3939/3939 [==============================] - 3s 795us/sample - loss: 0.2730 - acc: 0.9018 - val_loss: 0.3972 - val_acc: 0.8637\n",
      "Epoch 192/400\n",
      "3939/3939 [==============================] - 3s 749us/sample - loss: 0.2768 - acc: 0.8952 - val_loss: 0.3877 - val_acc: 0.8675\n",
      "Epoch 193/400\n",
      "3939/3939 [==============================] - 3s 752us/sample - loss: 0.2810 - acc: 0.9035 - val_loss: 0.3763 - val_acc: 0.8682\n",
      "Epoch 194/400\n",
      "3939/3939 [==============================] - 3s 767us/sample - loss: 0.2808 - acc: 0.9007 - val_loss: 0.4052 - val_acc: 0.8553\n",
      "Epoch 195/400\n",
      "3939/3939 [==============================] - 3s 776us/sample - loss: 0.2790 - acc: 0.8964 - val_loss: 0.3893 - val_acc: 0.8561\n",
      "Epoch 196/400\n",
      "3939/3939 [==============================] - 3s 758us/sample - loss: 0.2667 - acc: 0.9084 - val_loss: 0.4070 - val_acc: 0.8652\n",
      "Epoch 197/400\n",
      "3939/3939 [==============================] - 3s 756us/sample - loss: 0.2632 - acc: 0.9084 - val_loss: 0.3965 - val_acc: 0.8576\n",
      "Epoch 198/400\n",
      "3939/3939 [==============================] - 3s 766us/sample - loss: 0.2697 - acc: 0.9028 - val_loss: 0.3890 - val_acc: 0.8599\n",
      "Epoch 199/400\n",
      "3939/3939 [==============================] - 3s 747us/sample - loss: 0.2686 - acc: 0.9068 - val_loss: 0.3765 - val_acc: 0.8614\n",
      "Epoch 200/400\n",
      "3939/3939 [==============================] - 3s 758us/sample - loss: 0.2705 - acc: 0.9038 - val_loss: 0.3906 - val_acc: 0.8629\n",
      "Epoch 201/400\n",
      "3939/3939 [==============================] - 3s 749us/sample - loss: 0.2497 - acc: 0.9096 - val_loss: 0.3908 - val_acc: 0.8629\n",
      "Epoch 202/400\n",
      "3939/3939 [==============================] - 3s 746us/sample - loss: 0.2577 - acc: 0.9025 - val_loss: 0.3997 - val_acc: 0.8614\n",
      "Epoch 203/400\n",
      "3939/3939 [==============================] - 3s 749us/sample - loss: 0.2671 - acc: 0.9030 - val_loss: 0.3835 - val_acc: 0.8644\n",
      "Epoch 204/400\n",
      "3939/3939 [==============================] - 3s 746us/sample - loss: 0.2655 - acc: 0.9015 - val_loss: 0.3913 - val_acc: 0.8621\n",
      "Epoch 205/400\n",
      "3939/3939 [==============================] - 3s 744us/sample - loss: 0.2630 - acc: 0.9089 - val_loss: 0.3866 - val_acc: 0.8660\n",
      "Epoch 206/400\n",
      "3939/3939 [==============================] - 3s 746us/sample - loss: 0.2537 - acc: 0.9038 - val_loss: 0.3826 - val_acc: 0.8705\n",
      "Epoch 207/400\n",
      "3939/3939 [==============================] - 3s 752us/sample - loss: 0.2502 - acc: 0.9106 - val_loss: 0.3787 - val_acc: 0.8698\n",
      "Epoch 208/400\n",
      "3939/3939 [==============================] - 3s 737us/sample - loss: 0.2595 - acc: 0.9005 - val_loss: 0.3889 - val_acc: 0.8637\n",
      "Epoch 209/400\n",
      "3939/3939 [==============================] - 3s 739us/sample - loss: 0.2580 - acc: 0.9053 - val_loss: 0.3918 - val_acc: 0.8599\n",
      "Epoch 210/400\n",
      "3939/3939 [==============================] - 3s 683us/sample - loss: 0.2496 - acc: 0.9134 - val_loss: 0.3646 - val_acc: 0.8736\n",
      "Epoch 211/400\n",
      "3939/3939 [==============================] - 3s 691us/sample - loss: 0.2572 - acc: 0.9053 - val_loss: 0.3728 - val_acc: 0.8682\n",
      "Epoch 212/400\n",
      "3939/3939 [==============================] - 3s 706us/sample - loss: 0.2555 - acc: 0.9053 - val_loss: 0.4053 - val_acc: 0.8614\n",
      "Epoch 213/400\n",
      "3939/3939 [==============================] - 3s 714us/sample - loss: 0.2602 - acc: 0.9094 - val_loss: 0.3683 - val_acc: 0.8720\n",
      "Epoch 214/400\n",
      "3939/3939 [==============================] - 3s 736us/sample - loss: 0.2521 - acc: 0.9104 - val_loss: 0.3874 - val_acc: 0.8660\n",
      "Epoch 215/400\n",
      "3939/3939 [==============================] - 3s 711us/sample - loss: 0.2430 - acc: 0.9134 - val_loss: 0.4043 - val_acc: 0.8576\n",
      "Epoch 216/400\n",
      "3939/3939 [==============================] - 3s 720us/sample - loss: 0.2403 - acc: 0.9155 - val_loss: 0.3864 - val_acc: 0.8728\n",
      "Epoch 217/400\n",
      "3939/3939 [==============================] - 3s 726us/sample - loss: 0.2380 - acc: 0.9134 - val_loss: 0.3658 - val_acc: 0.8766\n",
      "Epoch 218/400\n",
      "3939/3939 [==============================] - 3s 694us/sample - loss: 0.2428 - acc: 0.9134 - val_loss: 0.3761 - val_acc: 0.8621\n",
      "Epoch 219/400\n",
      "3939/3939 [==============================] - 3s 724us/sample - loss: 0.2385 - acc: 0.9124 - val_loss: 0.3831 - val_acc: 0.8637\n",
      "Epoch 220/400\n",
      "3939/3939 [==============================] - 3s 723us/sample - loss: 0.2414 - acc: 0.9106 - val_loss: 0.3871 - val_acc: 0.8606\n",
      "Epoch 221/400\n",
      "3939/3939 [==============================] - 3s 712us/sample - loss: 0.2444 - acc: 0.9139 - val_loss: 0.3799 - val_acc: 0.8660\n",
      "Epoch 222/400\n",
      "3939/3939 [==============================] - 3s 739us/sample - loss: 0.2483 - acc: 0.9091 - val_loss: 0.3797 - val_acc: 0.8728\n",
      "Epoch 223/400\n",
      "3939/3939 [==============================] - 3s 871us/sample - loss: 0.2394 - acc: 0.9167 - val_loss: 0.3888 - val_acc: 0.8690\n",
      "Epoch 224/400\n",
      "3939/3939 [==============================] - 3s 792us/sample - loss: 0.2451 - acc: 0.9091 - val_loss: 0.4038 - val_acc: 0.8698\n",
      "Epoch 225/400\n",
      "3939/3939 [==============================] - 3s 855us/sample - loss: 0.2390 - acc: 0.9150 - val_loss: 0.3763 - val_acc: 0.8667\n",
      "Epoch 226/400\n",
      "3939/3939 [==============================] - 4s 941us/sample - loss: 0.2228 - acc: 0.9167 - val_loss: 0.3713 - val_acc: 0.8705\n",
      "Epoch 227/400\n",
      "3939/3939 [==============================] - 4s 988us/sample - loss: 0.2355 - acc: 0.9150 - val_loss: 0.3813 - val_acc: 0.8759\n",
      "Epoch 228/400\n",
      "3939/3939 [==============================] - 4s 965us/sample - loss: 0.2332 - acc: 0.9177 - val_loss: 0.3944 - val_acc: 0.8644\n",
      "Epoch 229/400\n",
      "3939/3939 [==============================] - 3s 769us/sample - loss: 0.2260 - acc: 0.9183 - val_loss: 0.3602 - val_acc: 0.8774\n",
      "Epoch 230/400\n",
      "3939/3939 [==============================] - 3s 640us/sample - loss: 0.2161 - acc: 0.9256 - val_loss: 0.3786 - val_acc: 0.8720\n",
      "Epoch 231/400\n",
      "3939/3939 [==============================] - 2s 635us/sample - loss: 0.2192 - acc: 0.9205 - val_loss: 0.3658 - val_acc: 0.8774\n",
      "Epoch 232/400\n",
      "3939/3939 [==============================] - 2s 622us/sample - loss: 0.2295 - acc: 0.9190 - val_loss: 0.3709 - val_acc: 0.8789\n",
      "Epoch 233/400\n"
     ]
    },
    {
     "name": "stdout",
     "output_type": "stream",
     "text": [
      "3939/3939 [==============================] - 2s 609us/sample - loss: 0.2397 - acc: 0.9114 - val_loss: 0.3737 - val_acc: 0.8675\n",
      "Epoch 234/400\n",
      "3939/3939 [==============================] - 3s 643us/sample - loss: 0.2250 - acc: 0.9190 - val_loss: 0.3982 - val_acc: 0.8713\n",
      "Epoch 235/400\n",
      "3939/3939 [==============================] - 2s 608us/sample - loss: 0.2217 - acc: 0.9231 - val_loss: 0.3731 - val_acc: 0.8705\n",
      "Epoch 236/400\n",
      "3939/3939 [==============================] - 2s 616us/sample - loss: 0.2196 - acc: 0.9223 - val_loss: 0.3739 - val_acc: 0.8720\n",
      "Epoch 237/400\n",
      "3939/3939 [==============================] - 2s 615us/sample - loss: 0.2218 - acc: 0.9221 - val_loss: 0.3879 - val_acc: 0.8682\n",
      "Epoch 238/400\n",
      "3939/3939 [==============================] - 2s 623us/sample - loss: 0.2148 - acc: 0.9210 - val_loss: 0.3866 - val_acc: 0.8675\n",
      "Epoch 239/400\n",
      "3939/3939 [==============================] - 3s 686us/sample - loss: 0.2202 - acc: 0.9185 - val_loss: 0.3695 - val_acc: 0.8736\n",
      "Epoch 240/400\n",
      "3939/3939 [==============================] - 3s 686us/sample - loss: 0.2066 - acc: 0.9287 - val_loss: 0.3800 - val_acc: 0.8743\n",
      "Epoch 241/400\n",
      "3939/3939 [==============================] - 3s 689us/sample - loss: 0.2289 - acc: 0.9139 - val_loss: 0.3724 - val_acc: 0.8766\n",
      "Epoch 242/400\n",
      "3939/3939 [==============================] - 3s 742us/sample - loss: 0.2130 - acc: 0.9241 - val_loss: 0.3899 - val_acc: 0.8766\n",
      "Epoch 243/400\n",
      "3939/3939 [==============================] - 3s 670us/sample - loss: 0.2073 - acc: 0.9246 - val_loss: 0.3850 - val_acc: 0.8728\n",
      "Epoch 244/400\n",
      "3939/3939 [==============================] - 2s 626us/sample - loss: 0.2193 - acc: 0.9208 - val_loss: 0.3949 - val_acc: 0.8690\n",
      "Epoch 245/400\n",
      "3939/3939 [==============================] - 3s 660us/sample - loss: 0.2117 - acc: 0.9269 - val_loss: 0.4080 - val_acc: 0.8682\n",
      "Epoch 246/400\n",
      "3939/3939 [==============================] - 2s 606us/sample - loss: 0.2164 - acc: 0.9218 - val_loss: 0.3711 - val_acc: 0.8743\n",
      "Epoch 247/400\n",
      "3939/3939 [==============================] - 2s 609us/sample - loss: 0.2089 - acc: 0.9231 - val_loss: 0.3734 - val_acc: 0.8812\n",
      "Epoch 248/400\n",
      "3939/3939 [==============================] - 2s 607us/sample - loss: 0.2180 - acc: 0.9210 - val_loss: 0.3918 - val_acc: 0.8720\n",
      "Epoch 249/400\n",
      "3939/3939 [==============================] - 2s 611us/sample - loss: 0.2143 - acc: 0.9216 - val_loss: 0.3842 - val_acc: 0.8690\n",
      "Epoch 250/400\n",
      "3939/3939 [==============================] - 2s 622us/sample - loss: 0.2106 - acc: 0.9200 - val_loss: 0.3718 - val_acc: 0.8759\n",
      "Epoch 251/400\n",
      "3939/3939 [==============================] - 2s 602us/sample - loss: 0.2131 - acc: 0.9251 - val_loss: 0.3985 - val_acc: 0.8720\n",
      "Epoch 252/400\n",
      "3939/3939 [==============================] - 2s 615us/sample - loss: 0.1978 - acc: 0.9274 - val_loss: 0.3803 - val_acc: 0.8774\n",
      "Epoch 253/400\n",
      "3939/3939 [==============================] - 2s 611us/sample - loss: 0.2097 - acc: 0.9249 - val_loss: 0.3928 - val_acc: 0.8698\n",
      "Epoch 254/400\n",
      "3939/3939 [==============================] - 2s 611us/sample - loss: 0.2080 - acc: 0.9276 - val_loss: 0.3719 - val_acc: 0.8743\n",
      "Epoch 255/400\n",
      "3939/3939 [==============================] - 3s 641us/sample - loss: 0.1874 - acc: 0.9284 - val_loss: 0.3744 - val_acc: 0.8705\n",
      "Epoch 256/400\n",
      "3939/3939 [==============================] - 2s 610us/sample - loss: 0.1882 - acc: 0.9315 - val_loss: 0.3784 - val_acc: 0.8736\n",
      "Epoch 257/400\n",
      "3939/3939 [==============================] - 2s 609us/sample - loss: 0.2061 - acc: 0.9236 - val_loss: 0.3852 - val_acc: 0.8690\n",
      "Epoch 258/400\n",
      "3939/3939 [==============================] - 2s 626us/sample - loss: 0.2048 - acc: 0.9282 - val_loss: 0.3774 - val_acc: 0.8789\n",
      "Epoch 259/400\n",
      "3939/3939 [==============================] - 2s 611us/sample - loss: 0.1984 - acc: 0.9315 - val_loss: 0.3849 - val_acc: 0.8774\n",
      "Epoch 260/400\n",
      "3939/3939 [==============================] - 2s 606us/sample - loss: 0.2106 - acc: 0.9243 - val_loss: 0.3727 - val_acc: 0.8835\n",
      "Epoch 261/400\n",
      "3939/3939 [==============================] - 3s 659us/sample - loss: 0.1878 - acc: 0.9335 - val_loss: 0.3776 - val_acc: 0.8774\n",
      "Epoch 262/400\n",
      "3939/3939 [==============================] - 3s 644us/sample - loss: 0.1986 - acc: 0.9292 - val_loss: 0.3850 - val_acc: 0.8728\n",
      "Epoch 263/400\n",
      "3939/3939 [==============================] - 2s 610us/sample - loss: 0.1877 - acc: 0.9348 - val_loss: 0.3699 - val_acc: 0.8743\n",
      "Epoch 264/400\n",
      "3939/3939 [==============================] - 2s 623us/sample - loss: 0.1914 - acc: 0.9358 - val_loss: 0.3813 - val_acc: 0.8713\n",
      "Epoch 265/400\n",
      "3939/3939 [==============================] - 2s 606us/sample - loss: 0.1872 - acc: 0.9302 - val_loss: 0.3979 - val_acc: 0.8743\n",
      "Epoch 266/400\n",
      "3939/3939 [==============================] - 2s 610us/sample - loss: 0.2056 - acc: 0.9264 - val_loss: 0.3987 - val_acc: 0.8743\n",
      "Epoch 267/400\n",
      "3939/3939 [==============================] - 2s 612us/sample - loss: 0.1859 - acc: 0.9358 - val_loss: 0.3964 - val_acc: 0.8720\n",
      "Epoch 268/400\n",
      "3939/3939 [==============================] - 2s 616us/sample - loss: 0.1901 - acc: 0.9312 - val_loss: 0.3871 - val_acc: 0.8720\n",
      "Epoch 269/400\n",
      "3939/3939 [==============================] - 2s 606us/sample - loss: 0.1964 - acc: 0.9279 - val_loss: 0.3899 - val_acc: 0.8675\n",
      "Epoch 270/400\n",
      "3939/3939 [==============================] - 2s 633us/sample - loss: 0.1856 - acc: 0.9335 - val_loss: 0.3824 - val_acc: 0.8797\n",
      "Epoch 271/400\n",
      "3939/3939 [==============================] - 2s 607us/sample - loss: 0.1879 - acc: 0.9317 - val_loss: 0.3952 - val_acc: 0.8728\n",
      "Epoch 272/400\n",
      "3939/3939 [==============================] - 2s 614us/sample - loss: 0.1830 - acc: 0.9355 - val_loss: 0.3996 - val_acc: 0.8705\n",
      "Epoch 273/400\n",
      "3939/3939 [==============================] - 2s 630us/sample - loss: 0.1927 - acc: 0.9322 - val_loss: 0.3696 - val_acc: 0.8751\n",
      "Epoch 274/400\n",
      "3939/3939 [==============================] - 3s 663us/sample - loss: 0.1920 - acc: 0.9348 - val_loss: 0.4120 - val_acc: 0.8705\n",
      "Epoch 275/400\n",
      "3939/3939 [==============================] - 3s 749us/sample - loss: 0.1805 - acc: 0.9322 - val_loss: 0.3704 - val_acc: 0.8797\n",
      "Epoch 276/400\n",
      "3939/3939 [==============================] - 3s 739us/sample - loss: 0.1832 - acc: 0.9342 - val_loss: 0.3825 - val_acc: 0.8766\n",
      "Epoch 277/400\n",
      "3939/3939 [==============================] - 3s 675us/sample - loss: 0.1912 - acc: 0.9337 - val_loss: 0.3709 - val_acc: 0.8781\n",
      "Epoch 278/400\n",
      "3939/3939 [==============================] - 3s 670us/sample - loss: 0.1809 - acc: 0.9411 - val_loss: 0.3776 - val_acc: 0.8720\n",
      "Epoch 279/400\n",
      "3939/3939 [==============================] - 3s 702us/sample - loss: 0.1749 - acc: 0.9411 - val_loss: 0.3921 - val_acc: 0.8812\n",
      "Epoch 280/400\n",
      "3939/3939 [==============================] - 3s 698us/sample - loss: 0.1800 - acc: 0.9368 - val_loss: 0.3781 - val_acc: 0.8797\n",
      "Epoch 281/400\n",
      "3939/3939 [==============================] - 3s 731us/sample - loss: 0.1818 - acc: 0.9360 - val_loss: 0.3773 - val_acc: 0.8797\n",
      "Epoch 282/400\n",
      "3939/3939 [==============================] - 2s 612us/sample - loss: 0.1742 - acc: 0.9388 - val_loss: 0.3659 - val_acc: 0.8880\n",
      "Epoch 283/400\n",
      "3939/3939 [==============================] - 2s 605us/sample - loss: 0.1704 - acc: 0.9373 - val_loss: 0.3936 - val_acc: 0.8736\n",
      "Epoch 284/400\n",
      "3939/3939 [==============================] - 2s 617us/sample - loss: 0.1738 - acc: 0.9370 - val_loss: 0.3830 - val_acc: 0.8720\n",
      "Epoch 285/400\n",
      "3939/3939 [==============================] - 2s 611us/sample - loss: 0.1746 - acc: 0.9360 - val_loss: 0.3879 - val_acc: 0.8781\n",
      "Epoch 286/400\n",
      "3939/3939 [==============================] - 2s 624us/sample - loss: 0.1760 - acc: 0.9312 - val_loss: 0.3707 - val_acc: 0.8827\n",
      "Epoch 287/400\n",
      "3939/3939 [==============================] - 2s 602us/sample - loss: 0.1694 - acc: 0.9391 - val_loss: 0.3896 - val_acc: 0.8850\n",
      "Epoch 288/400\n",
      "3939/3939 [==============================] - 2s 595us/sample - loss: 0.1702 - acc: 0.9381 - val_loss: 0.3980 - val_acc: 0.8751\n",
      "Epoch 289/400\n",
      "3939/3939 [==============================] - 2s 613us/sample - loss: 0.1716 - acc: 0.9375 - val_loss: 0.3845 - val_acc: 0.8819\n",
      "Epoch 290/400\n",
      "3939/3939 [==============================] - 2s 613us/sample - loss: 0.1696 - acc: 0.9332 - val_loss: 0.3976 - val_acc: 0.8751\n",
      "Epoch 291/400\n",
      "3939/3939 [==============================] - 2s 618us/sample - loss: 0.1674 - acc: 0.9419 - val_loss: 0.3798 - val_acc: 0.8781\n",
      "Epoch 292/400\n",
      "3939/3939 [==============================] - 3s 636us/sample - loss: 0.1785 - acc: 0.9355 - val_loss: 0.3688 - val_acc: 0.8812\n",
      "Epoch 293/400\n",
      "3939/3939 [==============================] - 3s 655us/sample - loss: 0.1751 - acc: 0.9396 - val_loss: 0.3886 - val_acc: 0.8804\n",
      "Epoch 294/400\n",
      "3939/3939 [==============================] - 3s 705us/sample - loss: 0.1672 - acc: 0.9434 - val_loss: 0.3772 - val_acc: 0.8858\n",
      "Epoch 295/400\n",
      "3939/3939 [==============================] - 3s 698us/sample - loss: 0.1752 - acc: 0.9373 - val_loss: 0.3718 - val_acc: 0.8888\n",
      "Epoch 296/400\n",
      "3939/3939 [==============================] - 3s 688us/sample - loss: 0.1803 - acc: 0.9342 - val_loss: 0.3791 - val_acc: 0.8819\n",
      "Epoch 297/400\n",
      "3939/3939 [==============================] - 3s 699us/sample - loss: 0.1759 - acc: 0.9381 - val_loss: 0.3897 - val_acc: 0.8804\n",
      "Epoch 298/400\n",
      "3939/3939 [==============================] - 3s 688us/sample - loss: 0.1670 - acc: 0.9408 - val_loss: 0.3744 - val_acc: 0.8850\n",
      "Epoch 299/400\n",
      "3939/3939 [==============================] - 3s 715us/sample - loss: 0.1553 - acc: 0.9434 - val_loss: 0.3740 - val_acc: 0.8819\n",
      "Epoch 300/400\n",
      "3939/3939 [==============================] - 3s 773us/sample - loss: 0.1558 - acc: 0.9434 - val_loss: 0.3991 - val_acc: 0.8797\n",
      "Epoch 301/400\n",
      "3939/3939 [==============================] - 3s 766us/sample - loss: 0.1618 - acc: 0.9464 - val_loss: 0.3835 - val_acc: 0.8690\n",
      "Epoch 302/400\n",
      "3939/3939 [==============================] - 3s 735us/sample - loss: 0.1559 - acc: 0.9454 - val_loss: 0.3739 - val_acc: 0.8781\n",
      "Epoch 303/400\n",
      "3939/3939 [==============================] - 3s 682us/sample - loss: 0.1546 - acc: 0.9434 - val_loss: 0.3882 - val_acc: 0.8705\n",
      "Epoch 304/400\n",
      "3939/3939 [==============================] - 3s 675us/sample - loss: 0.1538 - acc: 0.9490 - val_loss: 0.3869 - val_acc: 0.8743\n",
      "Epoch 305/400\n",
      "3939/3939 [==============================] - 3s 688us/sample - loss: 0.1541 - acc: 0.9487 - val_loss: 0.3709 - val_acc: 0.8858\n",
      "Epoch 306/400\n",
      "3939/3939 [==============================] - 4s 986us/sample - loss: 0.1543 - acc: 0.9474 - val_loss: 0.4032 - val_acc: 0.8728\n",
      "Epoch 307/400\n",
      "3939/3939 [==============================] - 4s 923us/sample - loss: 0.1684 - acc: 0.9449 - val_loss: 0.3829 - val_acc: 0.8743\n",
      "Epoch 308/400\n",
      "3939/3939 [==============================] - 3s 728us/sample - loss: 0.1554 - acc: 0.9474 - val_loss: 0.3966 - val_acc: 0.8781\n",
      "Epoch 309/400\n",
      "3939/3939 [==============================] - 3s 829us/sample - loss: 0.1646 - acc: 0.9429 - val_loss: 0.3740 - val_acc: 0.8789\n",
      "Epoch 310/400\n",
      "3939/3939 [==============================] - 3s 852us/sample - loss: 0.1547 - acc: 0.9482 - val_loss: 0.3966 - val_acc: 0.8751\n",
      "Epoch 311/400\n",
      "3939/3939 [==============================] - 3s 789us/sample - loss: 0.1525 - acc: 0.9459 - val_loss: 0.4034 - val_acc: 0.8789\n",
      "Epoch 312/400\n",
      "3939/3939 [==============================] - 3s 808us/sample - loss: 0.1595 - acc: 0.9459 - val_loss: 0.3807 - val_acc: 0.8812\n",
      "Epoch 313/400\n",
      "3939/3939 [==============================] - 3s 876us/sample - loss: 0.1581 - acc: 0.9474 - val_loss: 0.3555 - val_acc: 0.8850\n",
      "Epoch 314/400\n",
      "3939/3939 [==============================] - 3s 709us/sample - loss: 0.1550 - acc: 0.9485 - val_loss: 0.3540 - val_acc: 0.8835\n",
      "Epoch 315/400\n",
      "3939/3939 [==============================] - 3s 690us/sample - loss: 0.1357 - acc: 0.9507 - val_loss: 0.3714 - val_acc: 0.8789\n",
      "Epoch 316/400\n",
      "3939/3939 [==============================] - 3s 724us/sample - loss: 0.1577 - acc: 0.9424 - val_loss: 0.3931 - val_acc: 0.8781\n",
      "Epoch 317/400\n",
      "3939/3939 [==============================] - 3s 672us/sample - loss: 0.1511 - acc: 0.9495 - val_loss: 0.3962 - val_acc: 0.8766\n",
      "Epoch 318/400\n",
      "3939/3939 [==============================] - 3s 758us/sample - loss: 0.1476 - acc: 0.9474 - val_loss: 0.3983 - val_acc: 0.8812\n",
      "Epoch 319/400\n",
      "3939/3939 [==============================] - 2s 600us/sample - loss: 0.1567 - acc: 0.9439 - val_loss: 0.3985 - val_acc: 0.8842\n",
      "Epoch 320/400\n",
      "3939/3939 [==============================] - 3s 697us/sample - loss: 0.1499 - acc: 0.9459 - val_loss: 0.3844 - val_acc: 0.8789\n",
      "Epoch 321/400\n",
      "3939/3939 [==============================] - 3s 739us/sample - loss: 0.1417 - acc: 0.9515 - val_loss: 0.3845 - val_acc: 0.8789\n",
      "Epoch 322/400\n",
      "3939/3939 [==============================] - 3s 779us/sample - loss: 0.1538 - acc: 0.9452 - val_loss: 0.3813 - val_acc: 0.8827\n",
      "Epoch 323/400\n",
      "3939/3939 [==============================] - 3s 722us/sample - loss: 0.1512 - acc: 0.9454 - val_loss: 0.3958 - val_acc: 0.8850\n",
      "Epoch 324/400\n",
      "3939/3939 [==============================] - 3s 636us/sample - loss: 0.1390 - acc: 0.9523 - val_loss: 0.3745 - val_acc: 0.8911\n",
      "Epoch 325/400\n",
      "3939/3939 [==============================] - 2s 600us/sample - loss: 0.1428 - acc: 0.9507 - val_loss: 0.3716 - val_acc: 0.8835\n",
      "Epoch 326/400\n",
      "3939/3939 [==============================] - 2s 604us/sample - loss: 0.1429 - acc: 0.9497 - val_loss: 0.3919 - val_acc: 0.8804\n",
      "Epoch 327/400\n",
      "3939/3939 [==============================] - 2s 618us/sample - loss: 0.1443 - acc: 0.9464 - val_loss: 0.3851 - val_acc: 0.8850\n",
      "Epoch 328/400\n",
      "3939/3939 [==============================] - 3s 702us/sample - loss: 0.1599 - acc: 0.9452 - val_loss: 0.3939 - val_acc: 0.8812\n",
      "Epoch 329/400\n",
      "3939/3939 [==============================] - 3s 678us/sample - loss: 0.1469 - acc: 0.9518 - val_loss: 0.3982 - val_acc: 0.8797\n",
      "Epoch 330/400\n",
      "3939/3939 [==============================] - 3s 715us/sample - loss: 0.1342 - acc: 0.9540 - val_loss: 0.3922 - val_acc: 0.8819\n",
      "Epoch 331/400\n",
      "3939/3939 [==============================] - 3s 714us/sample - loss: 0.1312 - acc: 0.9515 - val_loss: 0.3950 - val_acc: 0.8797\n",
      "Epoch 332/400\n",
      "3939/3939 [==============================] - 2s 607us/sample - loss: 0.1481 - acc: 0.9510 - val_loss: 0.4029 - val_acc: 0.8766\n",
      "Epoch 333/400\n",
      "3939/3939 [==============================] - 2s 605us/sample - loss: 0.1426 - acc: 0.9523 - val_loss: 0.3878 - val_acc: 0.8812\n",
      "Epoch 334/400\n",
      "3939/3939 [==============================] - 2s 598us/sample - loss: 0.1273 - acc: 0.9601 - val_loss: 0.4157 - val_acc: 0.8675\n",
      "Epoch 335/400\n",
      "3939/3939 [==============================] - 2s 596us/sample - loss: 0.1497 - acc: 0.9477 - val_loss: 0.3885 - val_acc: 0.8865\n",
      "Epoch 336/400\n",
      "3939/3939 [==============================] - 2s 600us/sample - loss: 0.1260 - acc: 0.9558 - val_loss: 0.3878 - val_acc: 0.8812\n",
      "Epoch 337/400\n",
      "3939/3939 [==============================] - 2s 595us/sample - loss: 0.1465 - acc: 0.9477 - val_loss: 0.4003 - val_acc: 0.8888\n",
      "Epoch 338/400\n",
      "3939/3939 [==============================] - 2s 594us/sample - loss: 0.1304 - acc: 0.9573 - val_loss: 0.3918 - val_acc: 0.8827\n",
      "Epoch 339/400\n",
      "3939/3939 [==============================] - 2s 601us/sample - loss: 0.1403 - acc: 0.9505 - val_loss: 0.4180 - val_acc: 0.8797\n",
      "Epoch 340/400\n",
      "3939/3939 [==============================] - 2s 594us/sample - loss: 0.1291 - acc: 0.9561 - val_loss: 0.3990 - val_acc: 0.8903\n",
      "Epoch 341/400\n",
      "3939/3939 [==============================] - 2s 594us/sample - loss: 0.1356 - acc: 0.9548 - val_loss: 0.4032 - val_acc: 0.8781\n",
      "Epoch 342/400\n",
      "3939/3939 [==============================] - 2s 602us/sample - loss: 0.1489 - acc: 0.9502 - val_loss: 0.3901 - val_acc: 0.8759\n",
      "Epoch 343/400\n",
      "3939/3939 [==============================] - 2s 599us/sample - loss: 0.1342 - acc: 0.9515 - val_loss: 0.3951 - val_acc: 0.8812\n",
      "Epoch 344/400\n",
      "3939/3939 [==============================] - 2s 599us/sample - loss: 0.1309 - acc: 0.9581 - val_loss: 0.3914 - val_acc: 0.8842\n",
      "Epoch 345/400\n",
      "3939/3939 [==============================] - 2s 597us/sample - loss: 0.1349 - acc: 0.9510 - val_loss: 0.4151 - val_acc: 0.8774\n",
      "Epoch 346/400\n",
      "3939/3939 [==============================] - 2s 625us/sample - loss: 0.1432 - acc: 0.9487 - val_loss: 0.3803 - val_acc: 0.8781\n",
      "Epoch 347/400\n",
      "3939/3939 [==============================] - 2s 600us/sample - loss: 0.1294 - acc: 0.9546 - val_loss: 0.4037 - val_acc: 0.8812\n",
      "Epoch 348/400\n",
      "3939/3939 [==============================] - 2s 597us/sample - loss: 0.1312 - acc: 0.9573 - val_loss: 0.4441 - val_acc: 0.8743\n",
      "Epoch 349/400\n"
     ]
    },
    {
     "name": "stdout",
     "output_type": "stream",
     "text": [
      "3939/3939 [==============================] - 3s 778us/sample - loss: 0.1336 - acc: 0.9568 - val_loss: 0.3947 - val_acc: 0.8766\n",
      "Epoch 350/400\n",
      "3939/3939 [==============================] - 3s 637us/sample - loss: 0.1291 - acc: 0.9553 - val_loss: 0.3996 - val_acc: 0.8804\n",
      "Epoch 351/400\n",
      "3939/3939 [==============================] - 2s 605us/sample - loss: 0.1273 - acc: 0.9556 - val_loss: 0.4104 - val_acc: 0.8766\n",
      "Epoch 352/400\n",
      "3939/3939 [==============================] - 2s 611us/sample - loss: 0.1282 - acc: 0.9576 - val_loss: 0.3867 - val_acc: 0.8835\n",
      "Epoch 353/400\n",
      "3939/3939 [==============================] - 2s 618us/sample - loss: 0.1281 - acc: 0.9535 - val_loss: 0.4247 - val_acc: 0.8644\n",
      "Epoch 354/400\n",
      "3939/3939 [==============================] - 3s 739us/sample - loss: 0.1379 - acc: 0.9571 - val_loss: 0.3908 - val_acc: 0.8858\n",
      "Epoch 355/400\n",
      "3939/3939 [==============================] - 2s 619us/sample - loss: 0.1294 - acc: 0.9553 - val_loss: 0.4018 - val_acc: 0.8804\n",
      "Epoch 356/400\n",
      "3939/3939 [==============================] - 3s 723us/sample - loss: 0.1167 - acc: 0.9591 - val_loss: 0.4083 - val_acc: 0.8842\n",
      "Epoch 357/400\n",
      "3939/3939 [==============================] - 3s 740us/sample - loss: 0.1230 - acc: 0.9573 - val_loss: 0.4093 - val_acc: 0.8781\n",
      "Epoch 358/400\n",
      "3939/3939 [==============================] - 3s 700us/sample - loss: 0.1179 - acc: 0.9553 - val_loss: 0.3992 - val_acc: 0.8827\n",
      "Epoch 359/400\n",
      "3939/3939 [==============================] - 3s 672us/sample - loss: 0.1193 - acc: 0.9594 - val_loss: 0.3872 - val_acc: 0.8858\n",
      "Epoch 360/400\n",
      "3939/3939 [==============================] - 3s 667us/sample - loss: 0.1227 - acc: 0.9571 - val_loss: 0.4033 - val_acc: 0.8819\n",
      "Epoch 361/400\n",
      "3939/3939 [==============================] - 3s 680us/sample - loss: 0.1298 - acc: 0.9546 - val_loss: 0.4044 - val_acc: 0.8812\n",
      "Epoch 362/400\n",
      "3939/3939 [==============================] - 3s 695us/sample - loss: 0.1269 - acc: 0.9553 - val_loss: 0.4190 - val_acc: 0.8827\n",
      "Epoch 363/400\n",
      "3939/3939 [==============================] - 3s 689us/sample - loss: 0.1325 - acc: 0.9515 - val_loss: 0.3841 - val_acc: 0.8789\n",
      "Epoch 364/400\n",
      "3939/3939 [==============================] - 3s 669us/sample - loss: 0.1265 - acc: 0.9579 - val_loss: 0.3875 - val_acc: 0.8797\n",
      "Epoch 365/400\n",
      "3939/3939 [==============================] - 3s 688us/sample - loss: 0.1246 - acc: 0.9551 - val_loss: 0.3880 - val_acc: 0.8781\n",
      "Epoch 366/400\n",
      "3939/3939 [==============================] - 3s 743us/sample - loss: 0.1212 - acc: 0.9594 - val_loss: 0.3892 - val_acc: 0.8804\n",
      "Epoch 367/400\n",
      "3939/3939 [==============================] - 3s 699us/sample - loss: 0.1176 - acc: 0.9609 - val_loss: 0.3975 - val_acc: 0.8888\n",
      "Epoch 368/400\n",
      "3939/3939 [==============================] - 3s 702us/sample - loss: 0.1263 - acc: 0.9546 - val_loss: 0.3998 - val_acc: 0.8850\n",
      "Epoch 369/400\n",
      "3939/3939 [==============================] - 3s 687us/sample - loss: 0.1173 - acc: 0.9601 - val_loss: 0.4155 - val_acc: 0.8781\n",
      "Epoch 370/400\n",
      "3939/3939 [==============================] - 3s 688us/sample - loss: 0.1273 - acc: 0.9553 - val_loss: 0.3891 - val_acc: 0.8804\n",
      "Epoch 371/400\n",
      "3939/3939 [==============================] - 3s 683us/sample - loss: 0.1100 - acc: 0.9629 - val_loss: 0.3955 - val_acc: 0.8842\n",
      "Epoch 372/400\n",
      "3939/3939 [==============================] - 3s 670us/sample - loss: 0.1144 - acc: 0.9591 - val_loss: 0.4015 - val_acc: 0.8812\n",
      "Epoch 373/400\n",
      "3939/3939 [==============================] - 3s 678us/sample - loss: 0.1265 - acc: 0.9571 - val_loss: 0.3927 - val_acc: 0.8797\n",
      "Epoch 374/400\n",
      "3939/3939 [==============================] - 3s 689us/sample - loss: 0.1240 - acc: 0.9591 - val_loss: 0.4208 - val_acc: 0.8736\n",
      "Epoch 375/400\n",
      "3939/3939 [==============================] - 3s 762us/sample - loss: 0.1294 - acc: 0.9576 - val_loss: 0.3850 - val_acc: 0.8896\n",
      "Epoch 376/400\n",
      "3939/3939 [==============================] - 3s 800us/sample - loss: 0.1105 - acc: 0.9612 - val_loss: 0.3942 - val_acc: 0.8903\n",
      "Epoch 377/400\n",
      "3939/3939 [==============================] - 3s 734us/sample - loss: 0.1204 - acc: 0.9594 - val_loss: 0.4148 - val_acc: 0.8850\n",
      "Epoch 378/400\n",
      "3939/3939 [==============================] - 3s 671us/sample - loss: 0.1147 - acc: 0.9604 - val_loss: 0.4108 - val_acc: 0.8865\n",
      "Epoch 379/400\n",
      "3939/3939 [==============================] - 3s 789us/sample - loss: 0.1200 - acc: 0.9543 - val_loss: 0.4254 - val_acc: 0.8751\n",
      "Epoch 380/400\n",
      "3939/3939 [==============================] - 3s 733us/sample - loss: 0.1152 - acc: 0.9617 - val_loss: 0.4202 - val_acc: 0.8789\n",
      "Epoch 381/400\n",
      "3939/3939 [==============================] - 3s 694us/sample - loss: 0.0996 - acc: 0.9652 - val_loss: 0.4044 - val_acc: 0.8835\n",
      "Epoch 382/400\n",
      "3939/3939 [==============================] - 3s 708us/sample - loss: 0.1079 - acc: 0.9650 - val_loss: 0.4168 - val_acc: 0.8781\n",
      "Epoch 383/400\n",
      "3939/3939 [==============================] - 3s 687us/sample - loss: 0.1161 - acc: 0.9624 - val_loss: 0.4068 - val_acc: 0.8789\n",
      "Epoch 384/400\n",
      "3939/3939 [==============================] - 3s 672us/sample - loss: 0.1034 - acc: 0.9640 - val_loss: 0.4103 - val_acc: 0.8842\n",
      "Epoch 385/400\n",
      "3939/3939 [==============================] - 3s 672us/sample - loss: 0.1227 - acc: 0.9596 - val_loss: 0.4002 - val_acc: 0.8827\n",
      "Epoch 386/400\n",
      "3939/3939 [==============================] - 3s 682us/sample - loss: 0.1219 - acc: 0.9614 - val_loss: 0.3959 - val_acc: 0.8926\n",
      "Epoch 387/400\n",
      "3939/3939 [==============================] - 3s 689us/sample - loss: 0.1111 - acc: 0.9596 - val_loss: 0.4445 - val_acc: 0.8743\n",
      "Epoch 388/400\n",
      "3939/3939 [==============================] - 3s 666us/sample - loss: 0.1177 - acc: 0.9619 - val_loss: 0.3989 - val_acc: 0.8850\n",
      "Epoch 389/400\n",
      "3939/3939 [==============================] - 3s 671us/sample - loss: 0.1070 - acc: 0.9622 - val_loss: 0.3812 - val_acc: 0.8865\n",
      "Epoch 390/400\n",
      "3939/3939 [==============================] - 3s 694us/sample - loss: 0.1078 - acc: 0.9622 - val_loss: 0.4197 - val_acc: 0.8789\n",
      "Epoch 391/400\n",
      "3939/3939 [==============================] - 3s 683us/sample - loss: 0.1113 - acc: 0.9634 - val_loss: 0.4216 - val_acc: 0.8880\n",
      "Epoch 392/400\n",
      "3939/3939 [==============================] - 3s 697us/sample - loss: 0.1109 - acc: 0.9629 - val_loss: 0.3771 - val_acc: 0.8911\n",
      "Epoch 393/400\n",
      "3939/3939 [==============================] - 3s 655us/sample - loss: 0.1041 - acc: 0.9640 - val_loss: 0.4035 - val_acc: 0.8865\n",
      "Epoch 394/400\n",
      "3939/3939 [==============================] - 3s 659us/sample - loss: 0.1103 - acc: 0.9629 - val_loss: 0.3965 - val_acc: 0.8842\n",
      "Epoch 395/400\n",
      "3939/3939 [==============================] - 3s 692us/sample - loss: 0.1127 - acc: 0.9627 - val_loss: 0.4088 - val_acc: 0.8858\n",
      "Epoch 396/400\n",
      "3939/3939 [==============================] - 3s 670us/sample - loss: 0.1049 - acc: 0.9652 - val_loss: 0.4022 - val_acc: 0.8865\n",
      "Epoch 397/400\n",
      "3939/3939 [==============================] - 3s 670us/sample - loss: 0.1160 - acc: 0.9617 - val_loss: 0.4060 - val_acc: 0.8903\n",
      "Epoch 398/400\n",
      "3939/3939 [==============================] - 3s 674us/sample - loss: 0.0976 - acc: 0.9640 - val_loss: 0.3989 - val_acc: 0.8858\n",
      "Epoch 399/400\n",
      "3939/3939 [==============================] - 3s 661us/sample - loss: 0.1075 - acc: 0.9665 - val_loss: 0.4012 - val_acc: 0.8896\n",
      "Epoch 400/400\n",
      "3939/3939 [==============================] - 3s 672us/sample - loss: 0.1004 - acc: 0.9650 - val_loss: 0.4114 - val_acc: 0.8865\n"
     ]
    }
   ],
   "source": [
    "cnnmodel = model.fit(x_traincnn, y_train, batch_size=16, epochs=400, validation_data=(x_testcnn, y_test))"
   ]
  },
  {
   "cell_type": "code",
   "execution_count": 34,
   "metadata": {},
   "outputs": [
    {
     "data": {
      "image/png": "[encoded data removed]",
      "text/plain": [
       "<Figure size 432x288 with 1 Axes>"
      ]
     },
     "metadata": {
      "needs_background": "light"
     },
     "output_type": "display_data"
    }
   ],
   "source": [
    "# Plotting model Loss \n",
    "plt.plot(cnnmodel.history['loss'])\n",
    "plt.plot(cnnmodel.history['val_loss'])\n",
    "plt.title('model loss')\n",
    "plt.ylabel('loss')\n",
    "plt.xlabel('epoch')\n",
    "plt.legend(['train', 'test'], loc='upper left')\n",
    "plt.show()"
   ]
  },
  {
   "cell_type": "code",
   "execution_count": 37,
   "metadata": {},
   "outputs": [
    {
     "data": {
      "image/png": "[encoded data removed]",
      "text/plain": [
       "<Figure size 432x288 with 1 Axes>"
      ]
     },
     "metadata": {
      "needs_background": "light"
     },
     "output_type": "display_data"
    }
   ],
   "source": [
    "# Plotting model accuracy\n",
    "plt.plot(cnnmodel.history['acc'])\n",
    "plt.plot(cnnmodel.history['val_acc'])\n",
    "plt.title('model accuracy')\n",
    "plt.ylabel('accuracy')\n",
    "plt.xlabel('epoch')\n",
    "plt.legend(['train', 'test'], loc='upper left')\n",
    "plt.show()"
   ]
  },
  {
   "cell_type": "markdown",
   "metadata": {},
   "source": [
    "### Now lets check the predictions vs the actual values(y_test) to check accuracy of our CNN"
   ]
  },
  {
   "cell_type": "code",
   "execution_count": 49,
   "metadata": {},
   "outputs": [
    {
     "data": {
      "text/plain": [
       "array([3, 3, 0, ..., 7, 3, 2], dtype=int64)"
      ]
     },
     "execution_count": 49,
     "metadata": {},
     "output_type": "execute_result"
    }
   ],
   "source": [
    "predictions = model.predict_classes(x_testcnn)\n",
    "predictions"
   ]
  },
  {
   "cell_type": "code",
   "execution_count": 50,
   "metadata": {},
   "outputs": [
    {
     "data": {
      "text/plain": [
       "array([3, 3, 1, ..., 7, 3, 2])"
      ]
     },
     "execution_count": 50,
     "metadata": {},
     "output_type": "execute_result"
    }
   ],
   "source": [
    "# checking against y_test so casting it to new array\n",
    "cnn_Ytest = y_test.astype(int)\n",
    "cnn_Ytest"
   ]
  },
  {
   "cell_type": "code",
   "execution_count": 51,
   "metadata": {},
   "outputs": [
    {
     "name": "stdout",
     "output_type": "stream",
     "text": [
      "              precision    recall  f1-score   support\n",
      "\n",
      "           0       0.95      0.91      0.93       157\n",
      "           1       0.75      0.85      0.80        85\n",
      "           2       0.93      0.84      0.89       206\n",
      "           3       0.87      0.86      0.87       190\n",
      "           4       0.90      0.93      0.91       201\n",
      "           5       0.86      0.90      0.88       185\n",
      "           6       0.86      0.87      0.87       134\n",
      "           7       0.92      0.92      0.92       155\n",
      "\n",
      "    accuracy                           0.89      1313\n",
      "   macro avg       0.88      0.88      0.88      1313\n",
      "weighted avg       0.89      0.89      0.89      1313\n",
      "\n"
     ]
    }
   ],
   "source": [
    "#Its time for the report of our model\n",
    "from sklearn.metrics import classification_report\n",
    "report = classification_report(cnn_Ytest, predictions)\n",
    "print(report)"
   ]
  },
  {
   "cell_type": "code",
   "execution_count": 52,
   "metadata": {},
   "outputs": [
    {
     "name": "stdout",
     "output_type": "stream",
     "text": [
      "[[143   4   2   4   2   1   0   1]\n",
      " [  4  72   0   6   1   0   2   0]\n",
      " [  0  11 174   3   5   6   2   5]\n",
      " [  3   4   0 164   3  10   4   2]\n",
      " [  0   0   1   0 186   4   9   1]\n",
      " [  0   2   5  10   1 166   1   0]\n",
      " [  0   0   2   1   8   2 117   4]\n",
      " [  1   3   3   1   1   3   1 142]]\n"
     ]
    }
   ],
   "source": [
    "#Now lets plot the Confusion Matrix of our plot to display the performance of our model\n",
    "from sklearn.metrics import confusion_matrix\n",
    "matrix = confusion_matrix(cnn_Ytest, predictions)\n",
    "print (matrix)"
   ]
  },
  {
   "cell_type": "markdown",
   "metadata": {},
   "source": [
    "#### Now its time to save our model for future use"
   ]
  },
  {
   "cell_type": "code",
   "execution_count": 53,
   "metadata": {},
   "outputs": [
    {
     "name": "stdout",
     "output_type": "stream",
     "text": [
      "Model Saved\n"
     ]
    }
   ],
   "source": [
    "model.save('predict_Emotion_final_model.tf')\n",
    "print('Model Saved')"
   ]
  },
  {
   "cell_type": "markdown",
   "metadata": {},
   "source": [
    "#### Loading Our Model using different variable"
   ]
  },
  {
   "cell_type": "code",
   "execution_count": 55,
   "metadata": {},
   "outputs": [
    {
     "name": "stdout",
     "output_type": "stream",
     "text": [
      "Model: \"sequential_3\"\n",
      "_________________________________________________________________\n",
      "Layer (type)                 Output Shape              Param #   \n",
      "=================================================================\n",
      "conv1d_9 (Conv1D)            (None, 40, 64)            384       \n",
      "_________________________________________________________________\n",
      "activation_12 (Activation)   (None, 40, 64)            0         \n",
      "_________________________________________________________________\n",
      "dropout_9 (Dropout)          (None, 40, 64)            0         \n",
      "_________________________________________________________________\n",
      "max_pooling1d_6 (MaxPooling1 (None, 10, 64)            0         \n",
      "_________________________________________________________________\n",
      "conv1d_10 (Conv1D)           (None, 10, 128)           41088     \n",
      "_________________________________________________________________\n",
      "activation_13 (Activation)   (None, 10, 128)           0         \n",
      "_________________________________________________________________\n",
      "dropout_10 (Dropout)         (None, 10, 128)           0         \n",
      "_________________________________________________________________\n",
      "max_pooling1d_7 (MaxPooling1 (None, 2, 128)            0         \n",
      "_________________________________________________________________\n",
      "conv1d_11 (Conv1D)           (None, 2, 256)            164096    \n",
      "_________________________________________________________________\n",
      "activation_14 (Activation)   (None, 2, 256)            0         \n",
      "_________________________________________________________________\n",
      "dropout_11 (Dropout)         (None, 2, 256)            0         \n",
      "_________________________________________________________________\n",
      "flatten_3 (Flatten)          (None, 512)               0         \n",
      "_________________________________________________________________\n",
      "dense_3 (Dense)              (None, 8)                 4104      \n",
      "_________________________________________________________________\n",
      "activation_15 (Activation)   (None, 8)                 0         \n",
      "=================================================================\n",
      "Total params: 209,672\n",
      "Trainable params: 209,672\n",
      "Non-trainable params: 0\n",
      "_________________________________________________________________\n"
     ]
    }
   ],
   "source": [
    "new_model_1 = tf.keras.models.load_model('predict_Emotion_final_model.tf')\n",
    "new_model_1.summary()"
   ]
  },
  {
   "cell_type": "markdown",
   "metadata": {},
   "source": [
    "#### Lets check The Accuracy of Our CNN model using a test run"
   ]
  },
  {
   "cell_type": "code",
   "execution_count": 59,
   "metadata": {},
   "outputs": [
    {
     "name": "stdout",
     "output_type": "stream",
     "text": [
      "1313/1313 [==============================] - 0s 106us/sample - loss: 0.4114 - acc: 0.8865\n",
      "Saved CNN model, accuracy: 88.65%\n"
     ]
    }
   ],
   "source": [
    "loss, acc = new_model_1.evaluate(x_testcnn, y_test)\n",
    "print(\"Saved CNN model, accuracy: {:5.2f}%\".format(100*acc))"
   ]
  },
  {
   "cell_type": "markdown",
   "metadata": {},
   "source": [
    "### As Shown in the Output the accuracy of our model = 88.65%"
   ]
  }
 ],
 "metadata": {
  "kernelspec": {
   "display_name": "Python 3",
   "language": "python",
   "name": "python3"
  },
  "language_info": {
   "codemirror_mode": {
    "name": "ipython",
    "version": 3
   },
   "file_extension": ".py",
   "mimetype": "text/x-python",
   "name": "python",
   "nbconvert_exporter": "python",
   "pygments_lexer": "ipython3",
   "version": "3.7.6"
  }
 },
 "nbformat": 4,
 "nbformat_minor": 4
}
